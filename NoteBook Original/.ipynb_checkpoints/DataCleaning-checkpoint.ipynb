{
 "cells": [
  {
   "cell_type": "code",
   "execution_count": 1,
   "id": "90879135-8ef6-4b98-af51-47aa67802cc1",
   "metadata": {},
   "outputs": [],
   "source": [
    "import pandas as pd"
   ]
  },
  {
   "cell_type": "markdown",
   "id": "66ccf4b8-71e9-45f2-9f49-10d9e2e3e8ec",
   "metadata": {},
   "source": [
    "# Price Data:"
   ]
  },
  {
   "cell_type": "markdown",
   "id": "6fd5cd69-82f3-41ca-b791-a26261a0d436",
   "metadata": {},
   "source": [
    "### Clean Data:"
   ]
  },
  {
   "cell_type": "code",
   "execution_count": 2,
   "id": "3fea157f-e59f-45d7-ad5f-294b9764be2b",
   "metadata": {},
   "outputs": [],
   "source": [
    "# Load Price Data\n",
    "PricesData = pd.read_csv('Data/cardPrices.csv',index_col = 'uuid')"
   ]
  },
  {
   "cell_type": "code",
   "execution_count": 3,
   "id": "66106396-6756-4114-8cf0-1ee6fdbb2200",
   "metadata": {},
   "outputs": [],
   "source": [
    "# Filter Mtgo Cards \n",
    "filter = PricesData['gameAvailability'] == 'paper'\n",
    "Prices = PricesData[filter].copy()"
   ]
  },
  {
   "cell_type": "code",
   "execution_count": 4,
   "id": "2d0b89e9-762e-4071-8614-3e50af1ca5a9",
   "metadata": {},
   "outputs": [],
   "source": [
    "# Standarized Prices \n",
    "mask = (Prices['currency'] == 'EUR')\n",
    "Prices_masked = Prices[mask]\n",
    "\n",
    "Prices['price USD'] = Prices['price']\n",
    "Prices.loc[mask,'price USD']= Prices_masked['price'] *1.06"
   ]
  },
  {
   "cell_type": "code",
   "execution_count": 5,
   "id": "ea12ceca-2280-4b01-b512-1428d9a05bd6",
   "metadata": {},
   "outputs": [],
   "source": [
    "# Drop Extraneous Data\n",
    "Prices.drop(['price','gameAvailability','currency','date'],axis=1,inplace = True)"
   ]
  },
  {
   "cell_type": "markdown",
   "id": "0bfd570b-1000-464e-ac97-853d91574cd5",
   "metadata": {},
   "source": [
    "### Pivot Data"
   ]
  },
  {
   "cell_type": "code",
   "execution_count": 6,
   "id": "91864685-27e4-408b-a0dc-377229b650f8",
   "metadata": {},
   "outputs": [],
   "source": [
    "# Pivot Price Data \n",
    "foil_retailPrices = Prices.groupby(['providerListing']).get_group('retail').groupby(['cardFinish']).get_group('foil')['price USD'].groupby('uuid').mean()\n",
    "foil_buylistPrices = Prices.groupby(['providerListing']).get_group('buylist').groupby(['cardFinish']).get_group('foil')['price USD'].groupby('uuid').mean()\n",
    "normal_retailPrices = Prices.groupby(['providerListing']).get_group('retail').groupby(['cardFinish']).get_group('normal')['price USD'].groupby('uuid').mean()\n",
    "normal_buylistPrices = Prices.groupby(['providerListing']).get_group('buylist').groupby(['cardFinish']).get_group('normal')['price USD'].groupby('uuid').mean()"
   ]
  },
  {
   "cell_type": "code",
   "execution_count": 7,
   "id": "8df46828-80bc-4e7f-9e3c-80fa82661b2f",
   "metadata": {},
   "outputs": [],
   "source": [
    "# Normal Print Prices\n",
    "normalprices = pd.merge(normal_retailPrices,normal_buylistPrices,how = 'outer', right_index = True,left_index = True)\n",
    "\n",
    "normalprices['normal price'] = normalprices['price USD_x'].fillna(normalprices['price USD_y'])\n",
    "normalprices.drop(['price USD_x','price USD_y'],axis=1,inplace = True)"
   ]
  },
  {
   "cell_type": "code",
   "execution_count": 8,
   "id": "c4bd3c74-68e8-4c2f-83fa-5a9c4d060011",
   "metadata": {},
   "outputs": [],
   "source": [
    "# Foil Print Prices \n",
    "foilprices = pd.merge(foil_retailPrices,foil_buylistPrices,how = 'outer', right_index = True,left_index = True)\n",
    "\n",
    "foilprices['foil price'] = foilprices['price USD_x'].fillna(foilprices['price USD_y'])\n",
    "foilprices.drop(['price USD_x','price USD_y'],axis=1,inplace = True)"
   ]
  },
  {
   "cell_type": "code",
   "execution_count": 9,
   "id": "f1c0d48b-ce56-43c9-87f7-c79b4a07f2bb",
   "metadata": {
    "scrolled": true
   },
   "outputs": [
    {
     "data": {
      "text/html": [
       "<div>\n",
       "<style scoped>\n",
       "    .dataframe tbody tr th:only-of-type {\n",
       "        vertical-align: middle;\n",
       "    }\n",
       "\n",
       "    .dataframe tbody tr th {\n",
       "        vertical-align: top;\n",
       "    }\n",
       "\n",
       "    .dataframe thead th {\n",
       "        text-align: right;\n",
       "    }\n",
       "</style>\n",
       "<table border=\"1\" class=\"dataframe\">\n",
       "  <thead>\n",
       "    <tr style=\"text-align: right;\">\n",
       "      <th></th>\n",
       "      <th>normal price</th>\n",
       "      <th>foil price</th>\n",
       "    </tr>\n",
       "    <tr>\n",
       "      <th>uuid</th>\n",
       "      <th></th>\n",
       "      <th></th>\n",
       "    </tr>\n",
       "  </thead>\n",
       "  <tbody>\n",
       "    <tr>\n",
       "      <th>00010d56-fe38-5e35-8aed-518019aa36a5</th>\n",
       "      <td>5.987500</td>\n",
       "      <td>7.460000</td>\n",
       "    </tr>\n",
       "    <tr>\n",
       "      <th>0001e0d0-2dcd-5640-aadc-a84765cf5fc9</th>\n",
       "      <td>4.951500</td>\n",
       "      <td>NaN</td>\n",
       "    </tr>\n",
       "    <tr>\n",
       "      <th>0003caab-9ff5-5d1a-bc06-976dd0457f19</th>\n",
       "      <td>0.826550</td>\n",
       "      <td>3.405067</td>\n",
       "    </tr>\n",
       "    <tr>\n",
       "      <th>0003d249-25d9-5223-af1e-1130f09622a7</th>\n",
       "      <td>0.185300</td>\n",
       "      <td>0.417000</td>\n",
       "    </tr>\n",
       "    <tr>\n",
       "      <th>0004a4fb-92c6-59b2-bdbe-ceb584a9e401</th>\n",
       "      <td>1.256850</td>\n",
       "      <td>3.205667</td>\n",
       "    </tr>\n",
       "    <tr>\n",
       "      <th>...</th>\n",
       "      <td>...</td>\n",
       "      <td>...</td>\n",
       "    </tr>\n",
       "    <tr>\n",
       "      <th>fffbc95a-c4d1-56aa-8653-8a7c71fe19ce</th>\n",
       "      <td>6.034300</td>\n",
       "      <td>7.420000</td>\n",
       "    </tr>\n",
       "    <tr>\n",
       "      <th>fffbfc17-a457-565d-a1ed-aefe5810c86a</th>\n",
       "      <td>2.880000</td>\n",
       "      <td>4.359800</td>\n",
       "    </tr>\n",
       "    <tr>\n",
       "      <th>fffc1305-a118-559b-9504-3d7b56ca0bde</th>\n",
       "      <td>0.791500</td>\n",
       "      <td>NaN</td>\n",
       "    </tr>\n",
       "    <tr>\n",
       "      <th>fffdd333-3789-5104-a8be-37be199a2cb1</th>\n",
       "      <td>1.547850</td>\n",
       "      <td>NaN</td>\n",
       "    </tr>\n",
       "    <tr>\n",
       "      <th>fffe10ca-d43b-5234-b768-201cc5c2217e</th>\n",
       "      <td>3.040333</td>\n",
       "      <td>NaN</td>\n",
       "    </tr>\n",
       "  </tbody>\n",
       "</table>\n",
       "<p>75410 rows × 2 columns</p>\n",
       "</div>"
      ],
      "text/plain": [
       "                                      normal price  foil price\n",
       "uuid                                                          \n",
       "00010d56-fe38-5e35-8aed-518019aa36a5      5.987500    7.460000\n",
       "0001e0d0-2dcd-5640-aadc-a84765cf5fc9      4.951500         NaN\n",
       "0003caab-9ff5-5d1a-bc06-976dd0457f19      0.826550    3.405067\n",
       "0003d249-25d9-5223-af1e-1130f09622a7      0.185300    0.417000\n",
       "0004a4fb-92c6-59b2-bdbe-ceb584a9e401      1.256850    3.205667\n",
       "...                                            ...         ...\n",
       "fffbc95a-c4d1-56aa-8653-8a7c71fe19ce      6.034300    7.420000\n",
       "fffbfc17-a457-565d-a1ed-aefe5810c86a      2.880000    4.359800\n",
       "fffc1305-a118-559b-9504-3d7b56ca0bde      0.791500         NaN\n",
       "fffdd333-3789-5104-a8be-37be199a2cb1      1.547850         NaN\n",
       "fffe10ca-d43b-5234-b768-201cc5c2217e      3.040333         NaN\n",
       "\n",
       "[75410 rows x 2 columns]"
      ]
     },
     "execution_count": 9,
     "metadata": {},
     "output_type": "execute_result"
    }
   ],
   "source": [
    "Prices = pd.merge(normalprices,foilprices,how = 'outer', right_index = True,left_index = True)\n",
    "Prices"
   ]
  },
  {
   "cell_type": "markdown",
   "id": "0e83a73e-94f7-4fee-a371-834c1a654f87",
   "metadata": {},
   "source": [
    "# All Cards Data"
   ]
  },
  {
   "cell_type": "code",
   "execution_count": 42,
   "id": "21b9d106-858b-4016-ab8e-12067a15448d",
   "metadata": {},
   "outputs": [
    {
     "name": "stderr",
     "output_type": "stream",
     "text": [
      "C:\\Users\\helal\\AppData\\Local\\Temp\\ipykernel_18588\\4135993862.py:2: DtypeWarning: Columns (3,7,12,16,20,23,47,52,53,61,62,66,68) have mixed types. Specify dtype option on import or set low_memory=False.\n",
      "  CardData = pd.read_csv('Data/cards.csv',index_col = 'uuid')\n"
     ]
    }
   ],
   "source": [
    "# Load Card Data \n",
    "CardData = pd.read_csv('Data/cards.csv',index_col = 'uuid')"
   ]
  },
  {
   "cell_type": "code",
   "execution_count": 43,
   "id": "fd107c0b-8e91-4a8c-ac0c-a243b4ef03fb",
   "metadata": {
    "scrolled": true
   },
   "outputs": [],
   "source": [
    "# Filter out Mtgo & over sized cards Cards \n",
    "CardData['isOnlineOnly'].fillna(0, inplace = True)\n",
    "CardData['isOversized'].fillna(0, inplace = True)\n",
    "\n",
    "filt = (CardData['isOnlineOnly'] == 0) & (CardData['isOversized'] == 0)\n",
    "Cards = CardData[filt].copy()"
   ]
  },
  {
   "cell_type": "code",
   "execution_count": 44,
   "id": "d743acf3-a1d1-4903-88c1-dcb96634d2c8",
   "metadata": {},
   "outputs": [],
   "source": [
    "# Drop Extraneous Data\n",
    "#             [       identifiers      ] [    Filter    ] [      Sorters      ]\n",
    "Cards = Cards[['name','setCode','number','types','rarity','colors','edhrecRank']]"
   ]
  },
  {
   "cell_type": "code",
   "execution_count": 46,
   "id": "fee4aef3-6ccb-4f79-9bc2-df1c71ada397",
   "metadata": {},
   "outputs": [],
   "source": [
    "Cards['CollectionID'] = Cards['name']+Cards['setCode']"
   ]
  },
  {
   "cell_type": "code",
   "execution_count": 47,
   "id": "2a472f1b-48ab-43b3-9232-24d0b38ce74d",
   "metadata": {},
   "outputs": [
    {
     "data": {
      "text/html": [
       "<div>\n",
       "<style scoped>\n",
       "    .dataframe tbody tr th:only-of-type {\n",
       "        vertical-align: middle;\n",
       "    }\n",
       "\n",
       "    .dataframe tbody tr th {\n",
       "        vertical-align: top;\n",
       "    }\n",
       "\n",
       "    .dataframe thead th {\n",
       "        text-align: right;\n",
       "    }\n",
       "</style>\n",
       "<table border=\"1\" class=\"dataframe\">\n",
       "  <thead>\n",
       "    <tr style=\"text-align: right;\">\n",
       "      <th></th>\n",
       "      <th>name</th>\n",
       "      <th>setCode</th>\n",
       "      <th>number</th>\n",
       "      <th>types</th>\n",
       "      <th>rarity</th>\n",
       "      <th>colors</th>\n",
       "      <th>edhrecRank</th>\n",
       "      <th>CollectionID</th>\n",
       "    </tr>\n",
       "    <tr>\n",
       "      <th>uuid</th>\n",
       "      <th></th>\n",
       "      <th></th>\n",
       "      <th></th>\n",
       "      <th></th>\n",
       "      <th></th>\n",
       "      <th></th>\n",
       "      <th></th>\n",
       "      <th></th>\n",
       "    </tr>\n",
       "  </thead>\n",
       "  <tbody>\n",
       "    <tr>\n",
       "      <th>5f8287b1-5bb6-5f4c-ad17-316a40d5bb0c</th>\n",
       "      <td>Ancestor's Chosen</td>\n",
       "      <td>10E</td>\n",
       "      <td>1</td>\n",
       "      <td>Creature</td>\n",
       "      <td>uncommon</td>\n",
       "      <td>W</td>\n",
       "      <td>19920.0</td>\n",
       "      <td>Ancestor's Chosen10E</td>\n",
       "    </tr>\n",
       "    <tr>\n",
       "      <th>b7c19924-b4bf-56fc-aa73-f586e940bd42</th>\n",
       "      <td>Ancestor's Chosen</td>\n",
       "      <td>10E</td>\n",
       "      <td>1★</td>\n",
       "      <td>Creature</td>\n",
       "      <td>uncommon</td>\n",
       "      <td>W</td>\n",
       "      <td>19920.0</td>\n",
       "      <td>Ancestor's Chosen10E</td>\n",
       "    </tr>\n",
       "    <tr>\n",
       "      <th>57aaebc1-850c-503d-9f6e-bb8d00d8bf7c</th>\n",
       "      <td>Angel of Mercy</td>\n",
       "      <td>10E</td>\n",
       "      <td>2</td>\n",
       "      <td>Creature</td>\n",
       "      <td>uncommon</td>\n",
       "      <td>W</td>\n",
       "      <td>16072.0</td>\n",
       "      <td>Angel of Mercy10E</td>\n",
       "    </tr>\n",
       "    <tr>\n",
       "      <th>8fd4e2eb-3eb4-50ea-856b-ef638fa47f8a</th>\n",
       "      <td>Angel of Mercy</td>\n",
       "      <td>10E</td>\n",
       "      <td>2★</td>\n",
       "      <td>Creature</td>\n",
       "      <td>uncommon</td>\n",
       "      <td>W</td>\n",
       "      <td>16072.0</td>\n",
       "      <td>Angel of Mercy10E</td>\n",
       "    </tr>\n",
       "    <tr>\n",
       "      <th>55bd38ca-dc73-5c06-8f80-a6ddd2f44382</th>\n",
       "      <td>Angelic Blessing</td>\n",
       "      <td>10E</td>\n",
       "      <td>3</td>\n",
       "      <td>Sorcery</td>\n",
       "      <td>common</td>\n",
       "      <td>W</td>\n",
       "      <td>21290.0</td>\n",
       "      <td>Angelic Blessing10E</td>\n",
       "    </tr>\n",
       "    <tr>\n",
       "      <th>...</th>\n",
       "      <td>...</td>\n",
       "      <td>...</td>\n",
       "      <td>...</td>\n",
       "      <td>...</td>\n",
       "      <td>...</td>\n",
       "      <td>...</td>\n",
       "      <td>...</td>\n",
       "      <td>...</td>\n",
       "    </tr>\n",
       "    <tr>\n",
       "      <th>3f492516-7767-5ed7-a1d4-e3f7c06aee2f</th>\n",
       "      <td>Into the Roil</td>\n",
       "      <td>ZNR</td>\n",
       "      <td>387</td>\n",
       "      <td>Instant</td>\n",
       "      <td>common</td>\n",
       "      <td>U</td>\n",
       "      <td>2237.0</td>\n",
       "      <td>Into the RoilZNR</td>\n",
       "    </tr>\n",
       "    <tr>\n",
       "      <th>3f9a0369-5fe7-5aee-85fe-3cfaacd275af</th>\n",
       "      <td>Bloodchief's Thirst</td>\n",
       "      <td>ZNR</td>\n",
       "      <td>388</td>\n",
       "      <td>Sorcery</td>\n",
       "      <td>uncommon</td>\n",
       "      <td>B</td>\n",
       "      <td>7597.0</td>\n",
       "      <td>Bloodchief's ThirstZNR</td>\n",
       "    </tr>\n",
       "    <tr>\n",
       "      <th>97577e9e-69a9-5a8b-9c24-a72703790046</th>\n",
       "      <td>Roil Eruption</td>\n",
       "      <td>ZNR</td>\n",
       "      <td>389</td>\n",
       "      <td>Sorcery</td>\n",
       "      <td>common</td>\n",
       "      <td>R</td>\n",
       "      <td>14157.0</td>\n",
       "      <td>Roil EruptionZNR</td>\n",
       "    </tr>\n",
       "    <tr>\n",
       "      <th>deb51cbd-b890-5b2d-9d6f-7b896e16c6fd</th>\n",
       "      <td>Roiling Regrowth</td>\n",
       "      <td>ZNR</td>\n",
       "      <td>390</td>\n",
       "      <td>Instant</td>\n",
       "      <td>uncommon</td>\n",
       "      <td>G</td>\n",
       "      <td>736.0</td>\n",
       "      <td>Roiling RegrowthZNR</td>\n",
       "    </tr>\n",
       "    <tr>\n",
       "      <th>46407d93-df48-5161-95fe-f24086746663</th>\n",
       "      <td>Kargan Warleader</td>\n",
       "      <td>ZNR</td>\n",
       "      <td>391</td>\n",
       "      <td>Creature</td>\n",
       "      <td>uncommon</td>\n",
       "      <td>R, W</td>\n",
       "      <td>9002.0</td>\n",
       "      <td>Kargan WarleaderZNR</td>\n",
       "    </tr>\n",
       "  </tbody>\n",
       "</table>\n",
       "<p>75201 rows × 8 columns</p>\n",
       "</div>"
      ],
      "text/plain": [
       "                                                     name setCode number  \\\n",
       "uuid                                                                       \n",
       "5f8287b1-5bb6-5f4c-ad17-316a40d5bb0c    Ancestor's Chosen     10E      1   \n",
       "b7c19924-b4bf-56fc-aa73-f586e940bd42    Ancestor's Chosen     10E     1★   \n",
       "57aaebc1-850c-503d-9f6e-bb8d00d8bf7c       Angel of Mercy     10E      2   \n",
       "8fd4e2eb-3eb4-50ea-856b-ef638fa47f8a       Angel of Mercy     10E     2★   \n",
       "55bd38ca-dc73-5c06-8f80-a6ddd2f44382     Angelic Blessing     10E      3   \n",
       "...                                                   ...     ...    ...   \n",
       "3f492516-7767-5ed7-a1d4-e3f7c06aee2f        Into the Roil     ZNR    387   \n",
       "3f9a0369-5fe7-5aee-85fe-3cfaacd275af  Bloodchief's Thirst     ZNR    388   \n",
       "97577e9e-69a9-5a8b-9c24-a72703790046        Roil Eruption     ZNR    389   \n",
       "deb51cbd-b890-5b2d-9d6f-7b896e16c6fd     Roiling Regrowth     ZNR    390   \n",
       "46407d93-df48-5161-95fe-f24086746663     Kargan Warleader     ZNR    391   \n",
       "\n",
       "                                         types    rarity colors  edhrecRank  \\\n",
       "uuid                                                                          \n",
       "5f8287b1-5bb6-5f4c-ad17-316a40d5bb0c  Creature  uncommon      W     19920.0   \n",
       "b7c19924-b4bf-56fc-aa73-f586e940bd42  Creature  uncommon      W     19920.0   \n",
       "57aaebc1-850c-503d-9f6e-bb8d00d8bf7c  Creature  uncommon      W     16072.0   \n",
       "8fd4e2eb-3eb4-50ea-856b-ef638fa47f8a  Creature  uncommon      W     16072.0   \n",
       "55bd38ca-dc73-5c06-8f80-a6ddd2f44382   Sorcery    common      W     21290.0   \n",
       "...                                        ...       ...    ...         ...   \n",
       "3f492516-7767-5ed7-a1d4-e3f7c06aee2f   Instant    common      U      2237.0   \n",
       "3f9a0369-5fe7-5aee-85fe-3cfaacd275af   Sorcery  uncommon      B      7597.0   \n",
       "97577e9e-69a9-5a8b-9c24-a72703790046   Sorcery    common      R     14157.0   \n",
       "deb51cbd-b890-5b2d-9d6f-7b896e16c6fd   Instant  uncommon      G       736.0   \n",
       "46407d93-df48-5161-95fe-f24086746663  Creature  uncommon   R, W      9002.0   \n",
       "\n",
       "                                                CollectionID  \n",
       "uuid                                                          \n",
       "5f8287b1-5bb6-5f4c-ad17-316a40d5bb0c    Ancestor's Chosen10E  \n",
       "b7c19924-b4bf-56fc-aa73-f586e940bd42    Ancestor's Chosen10E  \n",
       "57aaebc1-850c-503d-9f6e-bb8d00d8bf7c       Angel of Mercy10E  \n",
       "8fd4e2eb-3eb4-50ea-856b-ef638fa47f8a       Angel of Mercy10E  \n",
       "55bd38ca-dc73-5c06-8f80-a6ddd2f44382     Angelic Blessing10E  \n",
       "...                                                      ...  \n",
       "3f492516-7767-5ed7-a1d4-e3f7c06aee2f        Into the RoilZNR  \n",
       "3f9a0369-5fe7-5aee-85fe-3cfaacd275af  Bloodchief's ThirstZNR  \n",
       "97577e9e-69a9-5a8b-9c24-a72703790046        Roil EruptionZNR  \n",
       "deb51cbd-b890-5b2d-9d6f-7b896e16c6fd     Roiling RegrowthZNR  \n",
       "46407d93-df48-5161-95fe-f24086746663     Kargan WarleaderZNR  \n",
       "\n",
       "[75201 rows x 8 columns]"
      ]
     },
     "execution_count": 47,
     "metadata": {},
     "output_type": "execute_result"
    }
   ],
   "source": [
    "Cards"
   ]
  },
  {
   "cell_type": "code",
   "execution_count": null,
   "id": "a75bd4d1-503e-4bee-95a0-45bec1653409",
   "metadata": {},
   "outputs": [],
   "source": []
  }
 ],
 "metadata": {
  "kernelspec": {
   "display_name": "Python 3 (ipykernel)",
   "language": "python",
   "name": "python3"
  },
  "language_info": {
   "codemirror_mode": {
    "name": "ipython",
    "version": 3
   },
   "file_extension": ".py",
   "mimetype": "text/x-python",
   "name": "python",
   "nbconvert_exporter": "python",
   "pygments_lexer": "ipython3",
   "version": "3.11.5"
  }
 },
 "nbformat": 4,
 "nbformat_minor": 5
}
