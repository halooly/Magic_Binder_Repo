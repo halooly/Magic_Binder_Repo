{
 "cells": [
  {
   "cell_type": "code",
   "execution_count": 1,
   "id": "731a7994-4829-4d63-929a-7a29a09dd0f1",
   "metadata": {},
   "outputs": [],
   "source": [
    "import pandas as pd\n",
    "import os \n",
    "import shutil"
   ]
  },
  {
   "cell_type": "code",
   "execution_count": null,
   "id": "046103fb-92ad-48eb-87b9-8c7a22301c0f",
   "metadata": {},
   "outputs": [],
   "source": []
  },
  {
   "cell_type": "markdown",
   "id": "4d5c8a24-e116-48b1-a986-7293eadc6ddb",
   "metadata": {},
   "source": [
    "# Backup"
   ]
  },
  {
   "cell_type": "code",
   "execution_count": 2,
   "id": "444b0833-c43c-4fb9-9145-d7435381093f",
   "metadata": {},
   "outputs": [],
   "source": [
    "# Currently done manually find way to back up loader folder and data folder "
   ]
  },
  {
   "cell_type": "markdown",
   "id": "004661c2-1d7b-40bc-8d47-a70ddded9802",
   "metadata": {},
   "source": [
    "# Load Data"
   ]
  },
  {
   "cell_type": "markdown",
   "id": "3e2c3192-2a9b-4c1a-971d-52934f607674",
   "metadata": {},
   "source": [
    "## All Card DataBase"
   ]
  },
  {
   "cell_type": "code",
   "execution_count": 3,
   "id": "51dce012-477b-4db6-a24f-15ad8fee047b",
   "metadata": {
    "scrolled": true
   },
   "outputs": [
    {
     "name": "stderr",
     "output_type": "stream",
     "text": [
      "C:\\Users\\helal\\AppData\\Local\\Temp\\ipykernel_13500\\4144974011.py:1: DtypeWarning: Columns (4,8,10,13,17,21,24,48,54,62,67,69) have mixed types. Specify dtype option on import or set low_memory=False.\n",
      "  CardData = pd.read_csv('CleanData/Cards.csv',index_col = 'uuid')\n"
     ]
    }
   ],
   "source": [
    "CardData = pd.read_csv('CleanData/Cards.csv',index_col = 'uuid')"
   ]
  },
  {
   "cell_type": "markdown",
   "id": "f1867eda-fd85-486d-9e6b-e7b5ce81cadb",
   "metadata": {},
   "source": [
    "## Collection"
   ]
  },
  {
   "cell_type": "code",
   "execution_count": 4,
   "id": "10fc0a71-968b-4a4f-bc22-191378579885",
   "metadata": {},
   "outputs": [],
   "source": [
    "Collection = pd.read_csv('Collection/Data/Collection.csv',index_col = 'uuidF')\n",
    "ValueBinder = pd.read_csv('Collection/Data/ValueBinder.csv',index_col = 'uuidF')\n",
    "EDHBinder = pd.read_csv('Collection/Data/EDHBinder.csv',index_col = 'uuidF')\n",
    "BulkBinder = pd.read_csv('Collection/Data/BulkBinder.csv',index_col = 'uuidF')"
   ]
  },
  {
   "cell_type": "markdown",
   "id": "57be782e-2656-4262-8a8f-2990a5af6993",
   "metadata": {},
   "source": [
    "## Cards Added"
   ]
  },
  {
   "cell_type": "code",
   "execution_count": 5,
   "id": "159d0722-258a-48dc-a481-1b0206b988bf",
   "metadata": {},
   "outputs": [],
   "source": [
    "CardsAdded = pd.read_csv('Loader/CardsToBeAdded.csv')\n",
    "\n",
    "CardsAdded['Foil'].fillna(0,inplace = True) \n",
    "CardsAdded.loc[(CardsAdded['Foil'] == 'FOIL'),'Foil'] = 1\n",
    "\n",
    "CardsAdded['CollectionID'] = CardsAdded['Card'] +  CardsAdded['Set ID']"
   ]
  },
  {
   "cell_type": "markdown",
   "id": "0cb57a41-c64e-46a4-8995-0ea28771dfc2",
   "metadata": {},
   "source": [
    "## Cards Removed"
   ]
  },
  {
   "cell_type": "code",
   "execution_count": 6,
   "id": "f9dc4ec8-716d-4a80-a9a7-991983a01fa4",
   "metadata": {},
   "outputs": [],
   "source": [
    "CardsRemoved = pd.read_csv('Loader/CardsToBeRemoved.csv')\n",
    "\n",
    "CardsRemoved['Foil'].fillna(0,inplace = True) \n",
    "\n",
    "CardsRemoved['CollectionID'] = CardsRemoved['Card'] +  CardsRemoved['Set ID']"
   ]
  },
  {
   "cell_type": "markdown",
   "id": "d2d2220b-fd58-4bb1-b0c7-2e9405a37ab0",
   "metadata": {},
   "source": [
    "#### Raise Exception when Removed Card not in Collection "
   ]
  },
  {
   "cell_type": "code",
   "execution_count": null,
   "id": "77ece385-ae5f-41b7-9177-efe07c2b94e9",
   "metadata": {},
   "outputs": [],
   "source": []
  },
  {
   "cell_type": "markdown",
   "id": "b57b69e7-4b9a-416d-bbc5-03bfd44ec78f",
   "metadata": {},
   "source": [
    "# Identify"
   ]
  },
  {
   "cell_type": "code",
   "execution_count": 7,
   "id": "41f81222-2115-4c4f-929f-163392db8b84",
   "metadata": {},
   "outputs": [],
   "source": [
    "Identifier = CardData['CollectionID'].copy()\n",
    "Identifier = Identifier.reset_index()"
   ]
  },
  {
   "cell_type": "markdown",
   "id": "f10eb01a-13d5-4e80-b1ae-2c65b0ac6ce0",
   "metadata": {},
   "source": [
    "## Unidentifiable "
   ]
  },
  {
   "cell_type": "code",
   "execution_count": 8,
   "id": "af8205d3-550f-4b87-95f3-b4d6a3426b64",
   "metadata": {},
   "outputs": [],
   "source": [
    "acollectionID = CardsAdded['CollectionID'].tolist()\n",
    "rcollectionID = CardsRemoved['CollectionID'].tolist()"
   ]
  },
  {
   "cell_type": "markdown",
   "id": "0bf8aebe-1536-4905-b94c-f03559851d2c",
   "metadata": {},
   "source": [
    "#### Querry relevant cards"
   ]
  },
  {
   "cell_type": "code",
   "execution_count": 9,
   "id": "0b716f87-56ab-438a-932b-52c8f7111946",
   "metadata": {},
   "outputs": [],
   "source": [
    "afilt = Identifier['CollectionID'].isin(acollectionID)\n",
    "rfilt = Identifier['CollectionID'].isin(rcollectionID)\n",
    "\n",
    "aquery = Identifier[afilt].copy()\n",
    "rquery = Identifier[rfilt].copy()"
   ]
  },
  {
   "cell_type": "markdown",
   "id": "7063458f-e3ff-4911-ac6a-f34571a0e0af",
   "metadata": {
    "scrolled": true
   },
   "source": [
    "#### Locate Unidentifiable Cards"
   ]
  },
  {
   "cell_type": "code",
   "execution_count": 10,
   "id": "86537a51-8096-4df0-ae8e-19b3232822bd",
   "metadata": {},
   "outputs": [],
   "source": [
    "afilt = aquery['CollectionID'].duplicated()\n",
    "rfilt = rquery['CollectionID'].duplicated()\n",
    "\n",
    "aunidentifiable = aquery[afilt]['CollectionID'].tolist()\n",
    "runidentifiable = rquery[rfilt]['CollectionID'].tolist()"
   ]
  },
  {
   "cell_type": "markdown",
   "id": "04075b18-cddd-43ff-9b23-32851ad3ef0a",
   "metadata": {},
   "source": [
    "#### Remove and Save Unidentifiable Cards for Data"
   ]
  },
  {
   "cell_type": "code",
   "execution_count": 11,
   "id": "cd7df999-c82f-4e45-ba94-c9cdaeed9049",
   "metadata": {},
   "outputs": [],
   "source": [
    "afilt = CardsAdded['CollectionID'].isin(aunidentifiable)\n",
    "rfilt = CardsRemoved['CollectionID'].isin(runidentifiable)\n",
    "\n",
    "UnidentifiableAdded = CardsAdded[afilt].copy()\n",
    "UnidentifiableRemoved = CardsRemoved[rfilt].copy()\n",
    "\n",
    "IdentifiableAdded = CardsAdded[~afilt].copy()\n",
    "IdentifiableRemoved = CardsRemoved[~rfilt].copy()"
   ]
  },
  {
   "cell_type": "markdown",
   "id": "f2957be9-8dd1-4581-8910-4e4324f9781e",
   "metadata": {},
   "source": [
    "### Handling Unidentifiable Cards"
   ]
  },
  {
   "cell_type": "code",
   "execution_count": 12,
   "id": "3d89d1ab-3578-42b7-b4fb-08e15424ef7e",
   "metadata": {},
   "outputs": [],
   "source": [
    "## Make sure to added list"
   ]
  },
  {
   "cell_type": "markdown",
   "id": "e309f766-0b4a-4635-98b4-c1709978d14d",
   "metadata": {},
   "source": [
    "## Assign uuid"
   ]
  },
  {
   "cell_type": "code",
   "execution_count": 13,
   "id": "36f2e959-0f4b-4796-a2ca-aba2bf7d5951",
   "metadata": {
    "scrolled": true
   },
   "outputs": [],
   "source": [
    "# Added\n",
    "IdedCardsAdded = IdentifiableAdded.merge(Identifier, how= 'left', on = 'CollectionID', copy = True)\n",
    "\n",
    "IdedCardsAdded['uuidF'] = IdedCardsAdded['uuid'] + IdedCardsAdded['Foil'].astype('str')\n",
    "IdedCardsAdded.set_index('uuidF',inplace = True)\n",
    "\n",
    "IdedCardsAdded.drop(['CollectionID','Card','Set ID','Foil','uuid'],axis = 1,inplace = True)\n",
    "\n",
    "\n",
    "# Removed\n",
    "IdedCardsRemoved = IdentifiableRemoved.merge(Identifier, how= 'left', on = 'CollectionID', copy = True)\n",
    "\n",
    "IdedCardsRemoved['uuidF'] = IdedCardsRemoved['uuid'] + IdedCardsRemoved['Foil'].astype('str')\n",
    "IdedCardsRemoved.set_index('uuidF',inplace = True)\n",
    "\n",
    "IdedCardsRemoved.drop(['CollectionID','Card','Set ID','Foil','uuid'],axis = 1,inplace = True)"
   ]
  },
  {
   "cell_type": "markdown",
   "id": "46ad71da-9dd2-4f03-a644-f3d6240f055b",
   "metadata": {},
   "source": [
    "# Assign Binder"
   ]
  },
  {
   "cell_type": "code",
   "execution_count": 14,
   "id": "cf6b155e-2954-42d9-9cef-c6daabfd6644",
   "metadata": {},
   "outputs": [],
   "source": [
    "def assign_binder(uuidf):\n",
    "    global CardData\n",
    "    uuid =  uuidf[0:len(uuidf)-1]\n",
    "    foiling = int(uuidf[-1])\n",
    "    \n",
    "    card = CardData.loc[uuid].copy()\n",
    "    card['price'] = card['normal price'] + (card['foil price'] - card['normal price'])*foiling\n",
    "\n",
    "    global Collection \n",
    "    if uuidf in Collection.index:\n",
    "        return 'Collection'\n",
    "    \n",
    "    # Special \n",
    "    \n",
    "    # Land\n",
    "    if card['type'] == ('Land'):\n",
    "        return 'Land'\n",
    "    \n",
    "    # Value\n",
    "    if card['price'] > 5:\n",
    "        return 'Value'\n",
    "\n",
    "    # EDH\n",
    "    if card['edhrecRank'] < 1500:\n",
    "        return 'EDH'\n",
    "    # Bulk\n",
    "    if card['rarity'] in ['rare','mythic']:\n",
    "        return 'Bulk'\n",
    "    # Other\n",
    "    \n",
    "    return 'not Sorted'\n",
    "    \n",
    "\n",
    "    "
   ]
  },
  {
   "cell_type": "markdown",
   "id": "858ece68-17dd-47dd-b334-fdcf0fa9ddf3",
   "metadata": {},
   "source": [
    "## Assign Cards"
   ]
  },
  {
   "cell_type": "code",
   "execution_count": 15,
   "id": "3b4697a7-7070-4b7f-b116-dcf66f525b6a",
   "metadata": {},
   "outputs": [],
   "source": [
    "BeingAssigned = IdedCardsAdded.copy()\n",
    "BeingAssigned['Binder'] = BeingAssigned.index.map(assign_binder)\n",
    "\n",
    "filt = BeingAssigned['Binder'] == 'Collection'\n",
    "\n",
    "AssignedCards = BeingAssigned[~filt].copy()\n",
    "CardsInCollection = BeingAssigned[filt].copy()"
   ]
  },
  {
   "cell_type": "markdown",
   "id": "d177b11d-b3ed-4513-9389-42ad6bd8f63f",
   "metadata": {},
   "source": [
    "## insert into colllection "
   ]
  },
  {
   "cell_type": "code",
   "execution_count": 16,
   "id": "2be97f0f-b764-4834-b0de-701fb5547ce1",
   "metadata": {
    "scrolled": true
   },
   "outputs": [],
   "source": [
    "mask = Collection.index.isin(CardsInCollection.index)\n",
    "Collection['Quantity'] = Collection['Quantity'].add(CardsInCollection['Quantity'], fill_value=0)"
   ]
  },
  {
   "cell_type": "code",
   "execution_count": 17,
   "id": "2e14c8ff-f7e0-4fff-a6fe-02a1bc84d6d6",
   "metadata": {},
   "outputs": [],
   "source": [
    "Collection = pd.concat([Collection.astype(AssignedCards.dtypes), AssignedCards.astype(Collection.dtypes)])"
   ]
  },
  {
   "cell_type": "markdown",
   "id": "9d9fa216-7b5b-4f05-88f4-64a2c033b56b",
   "metadata": {},
   "source": [
    "# Insert in Binder"
   ]
  },
  {
   "cell_type": "markdown",
   "id": "d1a59581-a476-4b2a-b20b-91841186f72e",
   "metadata": {},
   "source": [
    "## Defintions"
   ]
  },
  {
   "cell_type": "code",
   "execution_count": 18,
   "id": "b4ac7eb3-87c9-4a4b-ae56-b595acd35230",
   "metadata": {},
   "outputs": [],
   "source": [
    "def add_page(binder, location):\n",
    "    mask = binder['Page'] > location\n",
    "    binder.loc[mask,'Page'] = binder.loc[mask,'Page'] + 1   "
   ]
  },
  {
   "cell_type": "code",
   "execution_count": 19,
   "id": "d1b3217c-31f0-44ce-9883-f239ef31416b",
   "metadata": {},
   "outputs": [],
   "source": [
    "def add_card(binder, card, uuid,page, slot):\n",
    "    global CardData\n",
    "    \n",
    "    Page = page\n",
    "    Slot = slot\n",
    "    Scolor = CardData.loc[uuid,'order']\n",
    "    SmanaValue = CardData.loc[uuid,'manaValue']\n",
    "    \n",
    "    l = len(binder)\n",
    "    binder.loc[l] = [Page,Slot,Scolor,SmanaValue]\n",
    "    binder.rename(index = {l: card.name},inplace = True)    "
   ]
  },
  {
   "cell_type": "code",
   "execution_count": null,
   "id": "c99e4238-4de9-4612-933b-a6f2d8080425",
   "metadata": {},
   "outputs": [],
   "source": [
    "# add function doesnt work consider just building the entire builder then finding the closet slot"
   ]
  },
  {
   "cell_type": "code",
   "execution_count": 20,
   "id": "30b33f2e-38f9-4a28-88c8-46d570542441",
   "metadata": {},
   "outputs": [],
   "source": [
    "\n",
    "def add(binder, cards):\n",
    "    binder = binder.copy()\n",
    "    global CardData\n",
    "\n",
    "    for i, card in cards.iterrows():\n",
    "\n",
    "        uuid = i[0:len(i)-1]\n",
    "        card_data = CardData.loc[uuid]\n",
    "        color_section = card_data['order']\n",
    "        mv_section = card_data['manaValue']\n",
    "\n",
    "\n",
    "        # if section exists \n",
    "        filt = (binder['Scolor'] == color_section) & (binder['SmanaValue'] == mv_section)\n",
    "        slice = binder[filt]\n",
    "\n",
    "        if len(slice) > 0:\n",
    "            page = slice['Page'].max() \n",
    "            slot = slice.loc[(slice['Page'] == page),'Slot'].max()\n",
    "\n",
    "            if slot < 9:\n",
    "                slot = slot + 1\n",
    "            else:\n",
    "                add_page(binder,page)\n",
    "                page = page + 1\n",
    "                slot = 1\n",
    "                \n",
    "            add_card(binder, card, uuid,page, slot)\n",
    "            continue \n",
    "\n",
    "        # if section doesnt exist\n",
    "        filt = (binder['Scolor'] <= color_section)\n",
    "        color_slice = binder[filt]    \n",
    "        closet_color = color_slice['Scolor'].max()\n",
    "\n",
    "        if not pd.isna(closet_color):\n",
    "            \n",
    "            filt = (binder['Scolor'] == closet_color) \n",
    "            color_slice = binder[filt]\n",
    "\n",
    "            filt = (color_slice['SmanaValue'] < mv_section)\n",
    "            slice = color_slice[filt]\n",
    "\n",
    "            if slice.empty:\n",
    "                page = color_slice['Page'].min() - 1\n",
    "\n",
    "            else: \n",
    "                page = slice['Page'].max()\n",
    "        else: \n",
    "            page = 0 \n",
    "        \n",
    "        add_page(binder,page)\n",
    "        page = page + 1 \n",
    "        slot = 1\n",
    "        add_card(binder, card, uuid,page, slot)\n",
    "\n",
    "    return binder.sort_values(['Page','Slot'])    "
   ]
  },
  {
   "cell_type": "code",
   "execution_count": 21,
   "id": "70031eb9-bb00-494e-977c-d31ba135e802",
   "metadata": {},
   "outputs": [],
   "source": [
    "def remove(Binder, Cards):\n",
    "    pass"
   ]
  },
  {
   "cell_type": "markdown",
   "id": "621904fd-9212-4bd6-be4e-0ba54097de6f",
   "metadata": {},
   "source": [
    "## inserting into binder"
   ]
  },
  {
   "cell_type": "markdown",
   "id": "383da553-600a-475f-b7c8-5b027c8c6898",
   "metadata": {},
   "source": [
    "### Land"
   ]
  },
  {
   "cell_type": "code",
   "execution_count": 22,
   "id": "fc7bbac9-b4ac-463c-8a1b-9596164264c6",
   "metadata": {},
   "outputs": [],
   "source": [
    "LandList = AssignedCards[AssignedCards['Binder'] == 'Land']"
   ]
  },
  {
   "cell_type": "code",
   "execution_count": 34,
   "id": "69a712b3-fd16-40e4-b11f-52b140e93c09",
   "metadata": {},
   "outputs": [
    {
     "data": {
      "text/html": [
       "<div>\n",
       "<style scoped>\n",
       "    .dataframe tbody tr th:only-of-type {\n",
       "        vertical-align: middle;\n",
       "    }\n",
       "\n",
       "    .dataframe tbody tr th {\n",
       "        vertical-align: top;\n",
       "    }\n",
       "\n",
       "    .dataframe thead th {\n",
       "        text-align: right;\n",
       "    }\n",
       "</style>\n",
       "<table border=\"1\" class=\"dataframe\">\n",
       "  <thead>\n",
       "    <tr style=\"text-align: right;\">\n",
       "      <th></th>\n",
       "      <th>Quantity</th>\n",
       "      <th>Binder</th>\n",
       "    </tr>\n",
       "    <tr>\n",
       "      <th>uuidF</th>\n",
       "      <th></th>\n",
       "      <th></th>\n",
       "    </tr>\n",
       "  </thead>\n",
       "  <tbody>\n",
       "    <tr>\n",
       "      <th>72922bde-a549-58ab-a50e-ee62898e1b590</th>\n",
       "      <td>1</td>\n",
       "      <td>Land</td>\n",
       "    </tr>\n",
       "    <tr>\n",
       "      <th>3bb91f74-4cc8-56a5-88d0-86423082b2760</th>\n",
       "      <td>1</td>\n",
       "      <td>Land</td>\n",
       "    </tr>\n",
       "    <tr>\n",
       "      <th>b487402f-54ef-56d8-8490-d655b7a7f2510</th>\n",
       "      <td>1</td>\n",
       "      <td>Land</td>\n",
       "    </tr>\n",
       "    <tr>\n",
       "      <th>0b10bbf7-5ce1-5913-838c-67660bd87a0c0</th>\n",
       "      <td>1</td>\n",
       "      <td>Land</td>\n",
       "    </tr>\n",
       "    <tr>\n",
       "      <th>a12b410a-ae23-54a7-9610-733280012f3f0</th>\n",
       "      <td>1</td>\n",
       "      <td>Land</td>\n",
       "    </tr>\n",
       "    <tr>\n",
       "      <th>...</th>\n",
       "      <td>...</td>\n",
       "      <td>...</td>\n",
       "    </tr>\n",
       "    <tr>\n",
       "      <th>982bc8f7-d9ee-5a79-9c05-718b31a375df0</th>\n",
       "      <td>1</td>\n",
       "      <td>Land</td>\n",
       "    </tr>\n",
       "    <tr>\n",
       "      <th>71dc1055-b9e8-5574-9232-8eba92030e1e0</th>\n",
       "      <td>4</td>\n",
       "      <td>Land</td>\n",
       "    </tr>\n",
       "    <tr>\n",
       "      <th>c639e2fa-87c3-5357-a1f8-01e1044d3e040</th>\n",
       "      <td>3</td>\n",
       "      <td>Land</td>\n",
       "    </tr>\n",
       "    <tr>\n",
       "      <th>a139944e-bae3-523b-a29c-4aa3c544e5320</th>\n",
       "      <td>1</td>\n",
       "      <td>Land</td>\n",
       "    </tr>\n",
       "    <tr>\n",
       "      <th>4568e2dc-a15c-5f7c-a766-bcab34ae70ed0</th>\n",
       "      <td>2</td>\n",
       "      <td>Land</td>\n",
       "    </tr>\n",
       "  </tbody>\n",
       "</table>\n",
       "<p>159 rows × 2 columns</p>\n",
       "</div>"
      ],
      "text/plain": [
       "                                       Quantity Binder\n",
       "uuidF                                                 \n",
       "72922bde-a549-58ab-a50e-ee62898e1b590         1   Land\n",
       "3bb91f74-4cc8-56a5-88d0-86423082b2760         1   Land\n",
       "b487402f-54ef-56d8-8490-d655b7a7f2510         1   Land\n",
       "0b10bbf7-5ce1-5913-838c-67660bd87a0c0         1   Land\n",
       "a12b410a-ae23-54a7-9610-733280012f3f0         1   Land\n",
       "...                                         ...    ...\n",
       "982bc8f7-d9ee-5a79-9c05-718b31a375df0         1   Land\n",
       "71dc1055-b9e8-5574-9232-8eba92030e1e0         4   Land\n",
       "c639e2fa-87c3-5357-a1f8-01e1044d3e040         3   Land\n",
       "a139944e-bae3-523b-a29c-4aa3c544e5320         1   Land\n",
       "4568e2dc-a15c-5f7c-a766-bcab34ae70ed0         2   Land\n",
       "\n",
       "[159 rows x 2 columns]"
      ]
     },
     "execution_count": 34,
     "metadata": {},
     "output_type": "execute_result"
    }
   ],
   "source": [
    "LandList"
   ]
  },
  {
   "cell_type": "markdown",
   "id": "ba7332cc-55f3-4bcd-90dd-1346cc94f015",
   "metadata": {},
   "source": [
    "### Value"
   ]
  },
  {
   "cell_type": "code",
   "execution_count": 23,
   "id": "3f2c170f-f5ff-4c36-bd45-08b927250e96",
   "metadata": {},
   "outputs": [],
   "source": [
    "filt = AssignedCards['Binder'] == 'Value'\n",
    "cards = AssignedCards[filt]\n",
    "ValueBinder = add(ValueBinder, cards)"
   ]
  },
  {
   "cell_type": "code",
   "execution_count": 30,
   "id": "6b34d9ae-bea9-4f3b-a051-48b97087df55",
   "metadata": {},
   "outputs": [
    {
     "data": {
      "text/html": [
       "<div>\n",
       "<style scoped>\n",
       "    .dataframe tbody tr th:only-of-type {\n",
       "        vertical-align: middle;\n",
       "    }\n",
       "\n",
       "    .dataframe tbody tr th {\n",
       "        vertical-align: top;\n",
       "    }\n",
       "\n",
       "    .dataframe thead th {\n",
       "        text-align: right;\n",
       "    }\n",
       "</style>\n",
       "<table border=\"1\" class=\"dataframe\">\n",
       "  <thead>\n",
       "    <tr style=\"text-align: right;\">\n",
       "      <th></th>\n",
       "      <th>Page</th>\n",
       "      <th>Slot</th>\n",
       "      <th>Scolor</th>\n",
       "      <th>SmanaValue</th>\n",
       "    </tr>\n",
       "    <tr>\n",
       "      <th>uuidF</th>\n",
       "      <th></th>\n",
       "      <th></th>\n",
       "      <th></th>\n",
       "      <th></th>\n",
       "    </tr>\n",
       "  </thead>\n",
       "  <tbody>\n",
       "    <tr>\n",
       "      <th>d8dcf5ee-fd60-53a0-b89e-2849dcde901f1</th>\n",
       "      <td>1.0</td>\n",
       "      <td>1.0</td>\n",
       "      <td>1.0</td>\n",
       "      <td>1.0</td>\n",
       "    </tr>\n",
       "    <tr>\n",
       "      <th>01caa474-14be-5983-bd08-c8f50b054fc80</th>\n",
       "      <td>1.0</td>\n",
       "      <td>2.0</td>\n",
       "      <td>1.0</td>\n",
       "      <td>1.0</td>\n",
       "    </tr>\n",
       "    <tr>\n",
       "      <th>1142eab0-65e4-5dcd-b05d-28f6f5115b8a0</th>\n",
       "      <td>1.0</td>\n",
       "      <td>3.0</td>\n",
       "      <td>1.0</td>\n",
       "      <td>1.0</td>\n",
       "    </tr>\n",
       "    <tr>\n",
       "      <th>cf6caedd-a850-574f-9d8c-045bf66dcfd10</th>\n",
       "      <td>1.0</td>\n",
       "      <td>4.0</td>\n",
       "      <td>1.0</td>\n",
       "      <td>1.0</td>\n",
       "    </tr>\n",
       "    <tr>\n",
       "      <th>e9bd8b51-7e14-5f45-9bec-27a1f51791e30</th>\n",
       "      <td>1.0</td>\n",
       "      <td>5.0</td>\n",
       "      <td>1.0</td>\n",
       "      <td>1.0</td>\n",
       "    </tr>\n",
       "    <tr>\n",
       "      <th>...</th>\n",
       "      <td>...</td>\n",
       "      <td>...</td>\n",
       "      <td>...</td>\n",
       "      <td>...</td>\n",
       "    </tr>\n",
       "    <tr>\n",
       "      <th>6c42141e-0304-57b5-a1fc-d5b10ca09ed40</th>\n",
       "      <td>82.0</td>\n",
       "      <td>1.0</td>\n",
       "      <td>28.0</td>\n",
       "      <td>8.0</td>\n",
       "    </tr>\n",
       "    <tr>\n",
       "      <th>bbe86a57-53bf-5430-b7f4-d018d48984ac0</th>\n",
       "      <td>83.0</td>\n",
       "      <td>1.0</td>\n",
       "      <td>28.0</td>\n",
       "      <td>10.0</td>\n",
       "    </tr>\n",
       "    <tr>\n",
       "      <th>47cdfd09-d0c8-59b8-ac7b-9856d28139030</th>\n",
       "      <td>83.0</td>\n",
       "      <td>2.0</td>\n",
       "      <td>28.0</td>\n",
       "      <td>10.0</td>\n",
       "    </tr>\n",
       "    <tr>\n",
       "      <th>83b13871-d088-5b31-a3af-270b384240390</th>\n",
       "      <td>84.0</td>\n",
       "      <td>1.0</td>\n",
       "      <td>28.0</td>\n",
       "      <td>12.0</td>\n",
       "    </tr>\n",
       "    <tr>\n",
       "      <th>b5d65681-69ee-5068-b0fa-f34ffa85ad880</th>\n",
       "      <td>84.0</td>\n",
       "      <td>2.0</td>\n",
       "      <td>28.0</td>\n",
       "      <td>12.0</td>\n",
       "    </tr>\n",
       "  </tbody>\n",
       "</table>\n",
       "<p>247 rows × 4 columns</p>\n",
       "</div>"
      ],
      "text/plain": [
       "                                       Page  Slot  Scolor  SmanaValue\n",
       "uuidF                                                                \n",
       "d8dcf5ee-fd60-53a0-b89e-2849dcde901f1   1.0   1.0     1.0         1.0\n",
       "01caa474-14be-5983-bd08-c8f50b054fc80   1.0   2.0     1.0         1.0\n",
       "1142eab0-65e4-5dcd-b05d-28f6f5115b8a0   1.0   3.0     1.0         1.0\n",
       "cf6caedd-a850-574f-9d8c-045bf66dcfd10   1.0   4.0     1.0         1.0\n",
       "e9bd8b51-7e14-5f45-9bec-27a1f51791e30   1.0   5.0     1.0         1.0\n",
       "...                                     ...   ...     ...         ...\n",
       "6c42141e-0304-57b5-a1fc-d5b10ca09ed40  82.0   1.0    28.0         8.0\n",
       "bbe86a57-53bf-5430-b7f4-d018d48984ac0  83.0   1.0    28.0        10.0\n",
       "47cdfd09-d0c8-59b8-ac7b-9856d28139030  83.0   2.0    28.0        10.0\n",
       "83b13871-d088-5b31-a3af-270b384240390  84.0   1.0    28.0        12.0\n",
       "b5d65681-69ee-5068-b0fa-f34ffa85ad880  84.0   2.0    28.0        12.0\n",
       "\n",
       "[247 rows x 4 columns]"
      ]
     },
     "execution_count": 30,
     "metadata": {},
     "output_type": "execute_result"
    }
   ],
   "source": [
    "ValueBinder"
   ]
  },
  {
   "cell_type": "markdown",
   "id": "c2880205-e32a-4880-8c10-bf6ee415307e",
   "metadata": {},
   "source": [
    "### EDH"
   ]
  },
  {
   "cell_type": "code",
   "execution_count": 24,
   "id": "ac31332d-5572-497f-a49e-d23eea3e941f",
   "metadata": {},
   "outputs": [],
   "source": [
    "filt = AssignedCards['Binder'] == 'EDH'\n",
    "cards = AssignedCards[filt]\n",
    "EDHBinder = add(EDHBinder, cards)"
   ]
  },
  {
   "cell_type": "code",
   "execution_count": 31,
   "id": "0e604573-07f9-4be0-97fb-4eb4969bae03",
   "metadata": {},
   "outputs": [
    {
     "data": {
      "text/html": [
       "<div>\n",
       "<style scoped>\n",
       "    .dataframe tbody tr th:only-of-type {\n",
       "        vertical-align: middle;\n",
       "    }\n",
       "\n",
       "    .dataframe tbody tr th {\n",
       "        vertical-align: top;\n",
       "    }\n",
       "\n",
       "    .dataframe thead th {\n",
       "        text-align: right;\n",
       "    }\n",
       "</style>\n",
       "<table border=\"1\" class=\"dataframe\">\n",
       "  <thead>\n",
       "    <tr style=\"text-align: right;\">\n",
       "      <th></th>\n",
       "      <th>Page</th>\n",
       "      <th>Slot</th>\n",
       "      <th>Scolor</th>\n",
       "      <th>SmanaValue</th>\n",
       "    </tr>\n",
       "    <tr>\n",
       "      <th>uuidF</th>\n",
       "      <th></th>\n",
       "      <th></th>\n",
       "      <th></th>\n",
       "      <th></th>\n",
       "    </tr>\n",
       "  </thead>\n",
       "  <tbody>\n",
       "    <tr>\n",
       "      <th>bd1d5176-824c-56d7-a682-770b2ba91b9f0</th>\n",
       "      <td>1.0</td>\n",
       "      <td>1.0</td>\n",
       "      <td>1.0</td>\n",
       "      <td>1.0</td>\n",
       "    </tr>\n",
       "    <tr>\n",
       "      <th>b15d098d-2855-53fc-ab42-9047960556141</th>\n",
       "      <td>1.0</td>\n",
       "      <td>2.0</td>\n",
       "      <td>1.0</td>\n",
       "      <td>1.0</td>\n",
       "    </tr>\n",
       "    <tr>\n",
       "      <th>488fa58a-db5b-520e-84ae-0c79a2988f480</th>\n",
       "      <td>1.0</td>\n",
       "      <td>3.0</td>\n",
       "      <td>1.0</td>\n",
       "      <td>1.0</td>\n",
       "    </tr>\n",
       "    <tr>\n",
       "      <th>ed8a0c79-e338-5d0b-8a26-7a4ccb639bfe0</th>\n",
       "      <td>1.0</td>\n",
       "      <td>4.0</td>\n",
       "      <td>1.0</td>\n",
       "      <td>1.0</td>\n",
       "    </tr>\n",
       "    <tr>\n",
       "      <th>5fc178d7-de62-525c-a83d-cc9090d76f150</th>\n",
       "      <td>2.0</td>\n",
       "      <td>1.0</td>\n",
       "      <td>1.0</td>\n",
       "      <td>2.0</td>\n",
       "    </tr>\n",
       "    <tr>\n",
       "      <th>...</th>\n",
       "      <td>...</td>\n",
       "      <td>...</td>\n",
       "      <td>...</td>\n",
       "      <td>...</td>\n",
       "    </tr>\n",
       "    <tr>\n",
       "      <th>221c667a-7e2c-5c29-bfcb-b6371e292b8b0</th>\n",
       "      <td>72.0</td>\n",
       "      <td>6.0</td>\n",
       "      <td>5.0</td>\n",
       "      <td>4.0</td>\n",
       "    </tr>\n",
       "    <tr>\n",
       "      <th>b1d146a9-ece7-5634-95f9-1113f8dd5f280</th>\n",
       "      <td>73.0</td>\n",
       "      <td>1.0</td>\n",
       "      <td>5.0</td>\n",
       "      <td>5.0</td>\n",
       "    </tr>\n",
       "    <tr>\n",
       "      <th>656944a2-b547-5777-807c-cda44c7956100</th>\n",
       "      <td>73.0</td>\n",
       "      <td>2.0</td>\n",
       "      <td>5.0</td>\n",
       "      <td>5.0</td>\n",
       "    </tr>\n",
       "    <tr>\n",
       "      <th>e2c35a48-c336-5b62-82ec-d339fe7b1e0c0</th>\n",
       "      <td>74.0</td>\n",
       "      <td>1.0</td>\n",
       "      <td>5.0</td>\n",
       "      <td>6.0</td>\n",
       "    </tr>\n",
       "    <tr>\n",
       "      <th>f2a9f89f-6c6f-530d-b926-2fb77d2cb2000</th>\n",
       "      <td>75.0</td>\n",
       "      <td>1.0</td>\n",
       "      <td>5.0</td>\n",
       "      <td>7.0</td>\n",
       "    </tr>\n",
       "  </tbody>\n",
       "</table>\n",
       "<p>291 rows × 4 columns</p>\n",
       "</div>"
      ],
      "text/plain": [
       "                                       Page  Slot  Scolor  SmanaValue\n",
       "uuidF                                                                \n",
       "bd1d5176-824c-56d7-a682-770b2ba91b9f0   1.0   1.0     1.0         1.0\n",
       "b15d098d-2855-53fc-ab42-9047960556141   1.0   2.0     1.0         1.0\n",
       "488fa58a-db5b-520e-84ae-0c79a2988f480   1.0   3.0     1.0         1.0\n",
       "ed8a0c79-e338-5d0b-8a26-7a4ccb639bfe0   1.0   4.0     1.0         1.0\n",
       "5fc178d7-de62-525c-a83d-cc9090d76f150   2.0   1.0     1.0         2.0\n",
       "...                                     ...   ...     ...         ...\n",
       "221c667a-7e2c-5c29-bfcb-b6371e292b8b0  72.0   6.0     5.0         4.0\n",
       "b1d146a9-ece7-5634-95f9-1113f8dd5f280  73.0   1.0     5.0         5.0\n",
       "656944a2-b547-5777-807c-cda44c7956100  73.0   2.0     5.0         5.0\n",
       "e2c35a48-c336-5b62-82ec-d339fe7b1e0c0  74.0   1.0     5.0         6.0\n",
       "f2a9f89f-6c6f-530d-b926-2fb77d2cb2000  75.0   1.0     5.0         7.0\n",
       "\n",
       "[291 rows x 4 columns]"
      ]
     },
     "execution_count": 31,
     "metadata": {},
     "output_type": "execute_result"
    }
   ],
   "source": [
    "EDHBinder"
   ]
  },
  {
   "cell_type": "markdown",
   "id": "9eaf646d-7f6f-4f6a-9a14-0e3af2e8d1d2",
   "metadata": {},
   "source": [
    "### Bulk"
   ]
  },
  {
   "cell_type": "code",
   "execution_count": 25,
   "id": "304f12ff-cecf-45d1-918f-7da46952749b",
   "metadata": {},
   "outputs": [],
   "source": [
    "filt = AssignedCards['Binder'] == 'Bulk'\n",
    "cards = AssignedCards[filt]\n",
    "BulkBinder = add(BulkBinder, cards)"
   ]
  },
  {
   "cell_type": "code",
   "execution_count": 32,
   "id": "cb66453b-1071-4e31-9522-a42a3f6d0da2",
   "metadata": {},
   "outputs": [
    {
     "data": {
      "text/html": [
       "<div>\n",
       "<style scoped>\n",
       "    .dataframe tbody tr th:only-of-type {\n",
       "        vertical-align: middle;\n",
       "    }\n",
       "\n",
       "    .dataframe tbody tr th {\n",
       "        vertical-align: top;\n",
       "    }\n",
       "\n",
       "    .dataframe thead th {\n",
       "        text-align: right;\n",
       "    }\n",
       "</style>\n",
       "<table border=\"1\" class=\"dataframe\">\n",
       "  <thead>\n",
       "    <tr style=\"text-align: right;\">\n",
       "      <th></th>\n",
       "      <th>Page</th>\n",
       "      <th>Slot</th>\n",
       "      <th>Scolor</th>\n",
       "      <th>SmanaValue</th>\n",
       "    </tr>\n",
       "    <tr>\n",
       "      <th>uuidF</th>\n",
       "      <th></th>\n",
       "      <th></th>\n",
       "      <th></th>\n",
       "      <th></th>\n",
       "    </tr>\n",
       "  </thead>\n",
       "  <tbody>\n",
       "    <tr>\n",
       "      <th>c41509e1-fb42-5d53-875a-bd54138d7eda0</th>\n",
       "      <td>1.0</td>\n",
       "      <td>1.0</td>\n",
       "      <td>1.0</td>\n",
       "      <td>1.0</td>\n",
       "    </tr>\n",
       "    <tr>\n",
       "      <th>407b9968-a592-5990-8aa1-4114b56c40c80</th>\n",
       "      <td>1.0</td>\n",
       "      <td>2.0</td>\n",
       "      <td>1.0</td>\n",
       "      <td>1.0</td>\n",
       "    </tr>\n",
       "    <tr>\n",
       "      <th>627c71d7-afbb-5bef-be33-3071f3d607a00</th>\n",
       "      <td>1.0</td>\n",
       "      <td>3.0</td>\n",
       "      <td>1.0</td>\n",
       "      <td>1.0</td>\n",
       "    </tr>\n",
       "    <tr>\n",
       "      <th>db8381e4-12c5-504d-8e10-90f36f2617f30</th>\n",
       "      <td>1.0</td>\n",
       "      <td>4.0</td>\n",
       "      <td>1.0</td>\n",
       "      <td>1.0</td>\n",
       "    </tr>\n",
       "    <tr>\n",
       "      <th>ceb42101-7d73-5145-a307-c4dbabb6f1290</th>\n",
       "      <td>1.0</td>\n",
       "      <td>5.0</td>\n",
       "      <td>1.0</td>\n",
       "      <td>1.0</td>\n",
       "    </tr>\n",
       "    <tr>\n",
       "      <th>...</th>\n",
       "      <td>...</td>\n",
       "      <td>...</td>\n",
       "      <td>...</td>\n",
       "      <td>...</td>\n",
       "    </tr>\n",
       "    <tr>\n",
       "      <th>993121e7-dae3-5915-8440-b563291d7feb0</th>\n",
       "      <td>178.0</td>\n",
       "      <td>9.0</td>\n",
       "      <td>3.0</td>\n",
       "      <td>7.0</td>\n",
       "    </tr>\n",
       "    <tr>\n",
       "      <th>6b440556-8661-5613-8000-9b185ddf27230</th>\n",
       "      <td>179.0</td>\n",
       "      <td>1.0</td>\n",
       "      <td>3.0</td>\n",
       "      <td>7.0</td>\n",
       "    </tr>\n",
       "    <tr>\n",
       "      <th>807dfae1-e7f3-5c12-a139-7436028101230</th>\n",
       "      <td>180.0</td>\n",
       "      <td>1.0</td>\n",
       "      <td>3.0</td>\n",
       "      <td>8.0</td>\n",
       "    </tr>\n",
       "    <tr>\n",
       "      <th>02445867-2995-556f-badd-9155dba5a6710</th>\n",
       "      <td>180.0</td>\n",
       "      <td>2.0</td>\n",
       "      <td>3.0</td>\n",
       "      <td>8.0</td>\n",
       "    </tr>\n",
       "    <tr>\n",
       "      <th>cb1262a1-93f2-5e44-bf2b-0060edc0e4130</th>\n",
       "      <td>181.0</td>\n",
       "      <td>1.0</td>\n",
       "      <td>3.0</td>\n",
       "      <td>9.0</td>\n",
       "    </tr>\n",
       "  </tbody>\n",
       "</table>\n",
       "<p>810 rows × 4 columns</p>\n",
       "</div>"
      ],
      "text/plain": [
       "                                        Page  Slot  Scolor  SmanaValue\n",
       "uuidF                                                                 \n",
       "c41509e1-fb42-5d53-875a-bd54138d7eda0    1.0   1.0     1.0         1.0\n",
       "407b9968-a592-5990-8aa1-4114b56c40c80    1.0   2.0     1.0         1.0\n",
       "627c71d7-afbb-5bef-be33-3071f3d607a00    1.0   3.0     1.0         1.0\n",
       "db8381e4-12c5-504d-8e10-90f36f2617f30    1.0   4.0     1.0         1.0\n",
       "ceb42101-7d73-5145-a307-c4dbabb6f1290    1.0   5.0     1.0         1.0\n",
       "...                                      ...   ...     ...         ...\n",
       "993121e7-dae3-5915-8440-b563291d7feb0  178.0   9.0     3.0         7.0\n",
       "6b440556-8661-5613-8000-9b185ddf27230  179.0   1.0     3.0         7.0\n",
       "807dfae1-e7f3-5c12-a139-7436028101230  180.0   1.0     3.0         8.0\n",
       "02445867-2995-556f-badd-9155dba5a6710  180.0   2.0     3.0         8.0\n",
       "cb1262a1-93f2-5e44-bf2b-0060edc0e4130  181.0   1.0     3.0         9.0\n",
       "\n",
       "[810 rows x 4 columns]"
      ]
     },
     "execution_count": 32,
     "metadata": {},
     "output_type": "execute_result"
    }
   ],
   "source": [
    "BulkBinder"
   ]
  },
  {
   "cell_type": "markdown",
   "id": "0dcb73e7-d9ab-4804-9f6b-35bf519a2da1",
   "metadata": {},
   "source": [
    "## Other"
   ]
  },
  {
   "cell_type": "code",
   "execution_count": 26,
   "id": "352fd772-8396-4f77-beeb-04b562ce7ad1",
   "metadata": {},
   "outputs": [],
   "source": [
    "otherlist = AssignedCards[AssignedCards['Binder'] == 'not Sorted']"
   ]
  },
  {
   "cell_type": "code",
   "execution_count": 33,
   "id": "e76b8652-837e-44cd-baf8-38f2c9cd2743",
   "metadata": {},
   "outputs": [
    {
     "data": {
      "text/html": [
       "<div>\n",
       "<style scoped>\n",
       "    .dataframe tbody tr th:only-of-type {\n",
       "        vertical-align: middle;\n",
       "    }\n",
       "\n",
       "    .dataframe tbody tr th {\n",
       "        vertical-align: top;\n",
       "    }\n",
       "\n",
       "    .dataframe thead th {\n",
       "        text-align: right;\n",
       "    }\n",
       "</style>\n",
       "<table border=\"1\" class=\"dataframe\">\n",
       "  <thead>\n",
       "    <tr style=\"text-align: right;\">\n",
       "      <th></th>\n",
       "      <th>Quantity</th>\n",
       "      <th>Binder</th>\n",
       "    </tr>\n",
       "    <tr>\n",
       "      <th>uuidF</th>\n",
       "      <th></th>\n",
       "      <th></th>\n",
       "    </tr>\n",
       "  </thead>\n",
       "  <tbody>\n",
       "    <tr>\n",
       "      <th>e72320c5-aa3a-5fd9-88d0-56f0d71f9e7b0</th>\n",
       "      <td>1</td>\n",
       "      <td>not Sorted</td>\n",
       "    </tr>\n",
       "    <tr>\n",
       "      <th>43fc47a1-f95d-57e5-a323-eb3ac2db599b0</th>\n",
       "      <td>1</td>\n",
       "      <td>not Sorted</td>\n",
       "    </tr>\n",
       "    <tr>\n",
       "      <th>99057a3d-ca34-5b1d-b3f6-bdb8700720100</th>\n",
       "      <td>1</td>\n",
       "      <td>not Sorted</td>\n",
       "    </tr>\n",
       "    <tr>\n",
       "      <th>f8397d62-ca19-5877-9d62-fad9a78d0a420</th>\n",
       "      <td>1</td>\n",
       "      <td>not Sorted</td>\n",
       "    </tr>\n",
       "    <tr>\n",
       "      <th>4b8811e7-c3ad-5baa-90a2-659612f274860</th>\n",
       "      <td>2</td>\n",
       "      <td>not Sorted</td>\n",
       "    </tr>\n",
       "    <tr>\n",
       "      <th>...</th>\n",
       "      <td>...</td>\n",
       "      <td>...</td>\n",
       "    </tr>\n",
       "    <tr>\n",
       "      <th>78745b7c-47df-53d3-9401-06f9d3e5a1170</th>\n",
       "      <td>1</td>\n",
       "      <td>not Sorted</td>\n",
       "    </tr>\n",
       "    <tr>\n",
       "      <th>b0d66579-126a-5cec-a4f6-d71c6c4bd1cd0</th>\n",
       "      <td>1</td>\n",
       "      <td>not Sorted</td>\n",
       "    </tr>\n",
       "    <tr>\n",
       "      <th>90c23009-e53c-53f9-8f1b-c587e7cca7500</th>\n",
       "      <td>1</td>\n",
       "      <td>not Sorted</td>\n",
       "    </tr>\n",
       "    <tr>\n",
       "      <th>234ff821-6775-5639-9ef4-959d95ddeddc0</th>\n",
       "      <td>1</td>\n",
       "      <td>not Sorted</td>\n",
       "    </tr>\n",
       "    <tr>\n",
       "      <th>9a95e2ff-1b3f-5e07-b51f-1e8d14dcb4ba0</th>\n",
       "      <td>1</td>\n",
       "      <td>not Sorted</td>\n",
       "    </tr>\n",
       "  </tbody>\n",
       "</table>\n",
       "<p>162 rows × 2 columns</p>\n",
       "</div>"
      ],
      "text/plain": [
       "                                       Quantity      Binder\n",
       "uuidF                                                      \n",
       "e72320c5-aa3a-5fd9-88d0-56f0d71f9e7b0         1  not Sorted\n",
       "43fc47a1-f95d-57e5-a323-eb3ac2db599b0         1  not Sorted\n",
       "99057a3d-ca34-5b1d-b3f6-bdb8700720100         1  not Sorted\n",
       "f8397d62-ca19-5877-9d62-fad9a78d0a420         1  not Sorted\n",
       "4b8811e7-c3ad-5baa-90a2-659612f274860         2  not Sorted\n",
       "...                                         ...         ...\n",
       "78745b7c-47df-53d3-9401-06f9d3e5a1170         1  not Sorted\n",
       "b0d66579-126a-5cec-a4f6-d71c6c4bd1cd0         1  not Sorted\n",
       "90c23009-e53c-53f9-8f1b-c587e7cca7500         1  not Sorted\n",
       "234ff821-6775-5639-9ef4-959d95ddeddc0         1  not Sorted\n",
       "9a95e2ff-1b3f-5e07-b51f-1e8d14dcb4ba0         1  not Sorted\n",
       "\n",
       "[162 rows x 2 columns]"
      ]
     },
     "execution_count": 33,
     "metadata": {},
     "output_type": "execute_result"
    }
   ],
   "source": [
    "otherlist"
   ]
  },
  {
   "cell_type": "markdown",
   "id": "fcf26c8b-7cbb-4cd0-8f0d-c6d426a7e679",
   "metadata": {},
   "source": [
    "# Export"
   ]
  },
  {
   "cell_type": "code",
   "execution_count": 27,
   "id": "1c3c41a0-4ea1-48fe-b19b-e1538fbcaf3d",
   "metadata": {},
   "outputs": [],
   "source": [
    "#Export to collection Folder\n",
    "Collection.to_csv('Collection/Data/Collection.csv')\n",
    "ValueBinder.to_csv('Collection/Data/ValueBinder.csv')\n",
    "EDHBinder.to_csv('Collection/Data/EDHBinder.csv')\n",
    "BulkBinder.to_csv('Collection/Data/BulkBinder.csv')\n",
    "\n",
    "LandList.to_csv('Collection/Data/not_Sorted.csv')\n",
    "otherlist.to_csv('Collection/Data/not_Sorted.csv')\n",
    "\n",
    "# unidtifiable \n"
   ]
  },
  {
   "cell_type": "code",
   "execution_count": 28,
   "id": "fc41e918-03d5-4b2c-9d5c-17ada371b6c4",
   "metadata": {},
   "outputs": [],
   "source": [
    "# Reset Loader\n",
    "CardsAdded.drop(CardsAdded.index, inplace = True)\n",
    "CardsAdded.drop('CollectionID',axis = 1, inplace = True)\n",
    "CardsAdded.to_csv('Loader/CardsToBeAdded.csv')\n",
    "\n",
    "CardsRemoved.drop(CardsRemoved.index, inplace = True)\n",
    "CardsRemoved.drop('CollectionID',axis = 1, inplace = True)\n",
    "CardsRemoved.to_csv('Loader/CardsToBeRemoved.csv')"
   ]
  },
  {
   "cell_type": "code",
   "execution_count": 29,
   "id": "5bab1192-2b21-4567-923b-08ad230bdd93",
   "metadata": {},
   "outputs": [],
   "source": [
    "#Return Unidentified List \n",
    "UnidentifiableAdded.drop('CollectionID',axis = 1, inplace = True)\n",
    "UnidentifiableAdded.to_csv('Loader/Unidentified/UnidentifiableAdded.csv')\n",
    "\n",
    "UnidentifiableRemoved.drop('CollectionID',axis = 1, inplace = True)\n",
    "UnidentifiableAdded.to_csv('Loader/Unidentified/UnidentifiableRemoved.csv')"
   ]
  }
 ],
 "metadata": {
  "kernelspec": {
   "display_name": "Python 3 (ipykernel)",
   "language": "python",
   "name": "python3"
  },
  "language_info": {
   "codemirror_mode": {
    "name": "ipython",
    "version": 3
   },
   "file_extension": ".py",
   "mimetype": "text/x-python",
   "name": "python",
   "nbconvert_exporter": "python",
   "pygments_lexer": "ipython3",
   "version": "3.11.5"
  }
 },
 "nbformat": 4,
 "nbformat_minor": 5
}
