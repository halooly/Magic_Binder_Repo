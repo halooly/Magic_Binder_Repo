{
 "cells": [
  {
   "cell_type": "code",
   "execution_count": 1,
   "id": "731a7994-4829-4d63-929a-7a29a09dd0f1",
   "metadata": {},
   "outputs": [],
   "source": [
    "import pandas as pd\n",
    "import distutils\n",
    "from datetime import datetime"
   ]
  },
  {
   "cell_type": "markdown",
   "id": "4d5c8a24-e116-48b1-a986-7293eadc6ddb",
   "metadata": {},
   "source": [
    "# Backup"
   ]
  },
  {
   "cell_type": "code",
   "execution_count": 2,
   "id": "444b0833-c43c-4fb9-9145-d7435381093f",
   "metadata": {},
   "outputs": [
    {
     "data": {
      "text/plain": [
       "['AutoBack\\\\ 03-03-24_12.12.31/Loader\\\\CardsToBeAdded.csv',\n",
       " 'AutoBack\\\\ 03-03-24_12.12.31/Loader\\\\CardsToBeRemoved.csv']"
      ]
     },
     "execution_count": 2,
     "metadata": {},
     "output_type": "execute_result"
    }
   ],
   "source": [
    "# Currently done manually find way to back up loader folder and data folder \n",
    "path = \"AutoBack\\ \" + datetime.now().strftime(\"%d-%m-%y_%H.%M.%S\")\n",
    "distutils.dir_util.copy_tree('Collection',path + '/Collection')\n",
    "distutils.dir_util.copy_tree('Loader',path + '/Loader')"
   ]
  },
  {
   "cell_type": "markdown",
   "id": "004661c2-1d7b-40bc-8d47-a70ddded9802",
   "metadata": {},
   "source": [
    "# Load Data"
   ]
  },
  {
   "cell_type": "markdown",
   "id": "3e2c3192-2a9b-4c1a-971d-52934f607674",
   "metadata": {},
   "source": [
    "## All Card DataBase"
   ]
  },
  {
   "cell_type": "code",
   "execution_count": 3,
   "id": "51dce012-477b-4db6-a24f-15ad8fee047b",
   "metadata": {},
   "outputs": [
    {
     "name": "stderr",
     "output_type": "stream",
     "text": [
      "C:\\Users\\helal\\AppData\\Local\\Temp\\ipykernel_3784\\4144974011.py:1: DtypeWarning: Columns (4,8,10,13,17,21,24,48,54,62,67,69) have mixed types. Specify dtype option on import or set low_memory=False.\n",
      "  CardData = pd.read_csv('CleanData/Cards.csv',index_col = 'uuid')\n"
     ]
    }
   ],
   "source": [
    "CardData = pd.read_csv('CleanData/Cards.csv',index_col = 'uuid')"
   ]
  },
  {
   "cell_type": "markdown",
   "id": "f1867eda-fd85-486d-9e6b-e7b5ce81cadb",
   "metadata": {},
   "source": [
    "## Collection"
   ]
  },
  {
   "cell_type": "code",
   "execution_count": 4,
   "id": "10fc0a71-968b-4a4f-bc22-191378579885",
   "metadata": {
    "scrolled": true
   },
   "outputs": [],
   "source": [
    "Collection = pd.read_csv('Collection/Raw/Collection.csv',index_col = 'uuidF')\n",
    "ValueBinder = pd.read_csv('Collection/Raw/ValueBinder.csv',index_col = 'uuidF')\n",
    "EDHBinder = pd.read_csv('Collection/Raw/EDHBinder.csv',index_col = 'uuidF')\n",
    "BulkBinder = pd.read_csv('Collection/Raw/BulkBinder.csv',index_col = 'uuidF')"
   ]
  },
  {
   "cell_type": "markdown",
   "id": "57be782e-2656-4262-8a8f-2990a5af6993",
   "metadata": {},
   "source": [
    "## Cards Added"
   ]
  },
  {
   "cell_type": "code",
   "execution_count": 5,
   "id": "159d0722-258a-48dc-a481-1b0206b988bf",
   "metadata": {},
   "outputs": [],
   "source": [
    "CardsAdded = pd.read_csv('Loader/CardsToBeAdded.csv')\n",
    "\n",
    "CardsAdded['Foil'].fillna(0,inplace = True)\n",
    "# should probably just find non empty cells instead of specifically finding things called \"foil\"\n",
    "CardsAdded.loc[(CardsAdded['Foil'] == 'FOIL'),'Foil'] = 1\n",
    "CardsAdded['Foil'] = CardsAdded['Foil'].astype(int) \n",
    "CardsAdded['CollectionID'] = CardsAdded['Card'] +  CardsAdded['Set ID']"
   ]
  },
  {
   "cell_type": "markdown",
   "id": "0cb57a41-c64e-46a4-8995-0ea28771dfc2",
   "metadata": {},
   "source": [
    "## Cards Removed"
   ]
  },
  {
   "cell_type": "code",
   "execution_count": 6,
   "id": "f9dc4ec8-716d-4a80-a9a7-991983a01fa4",
   "metadata": {},
   "outputs": [],
   "source": [
    "CardsRemoved = pd.read_csv('Loader/CardsToBeRemoved.csv')\n",
    "\n",
    "CardsRemoved['Foil'].fillna(0,inplace = True)\n",
    "CardsRemoved.loc[(CardsRemoved['Foil'] == 'FOIL'),'Foil'] = 1\n",
    "\n",
    "CardsRemoved['Foil'] = CardsRemoved['Foil'].astype(int) \n",
    "\n",
    "CardsRemoved['CollectionID'] = CardsRemoved['Card'] +  CardsRemoved['Set ID']"
   ]
  },
  {
   "cell_type": "markdown",
   "id": "d2d2220b-fd58-4bb1-b0c7-2e9405a37ab0",
   "metadata": {},
   "source": [
    "#### Raise Exception when Removed Card not in Collection "
   ]
  },
  {
   "cell_type": "code",
   "execution_count": 7,
   "id": "22903f97-43a6-4b63-a15a-9c087e4746e3",
   "metadata": {},
   "outputs": [
    {
     "data": {
      "text/html": [
       "<div>\n",
       "<style scoped>\n",
       "    .dataframe tbody tr th:only-of-type {\n",
       "        vertical-align: middle;\n",
       "    }\n",
       "\n",
       "    .dataframe tbody tr th {\n",
       "        vertical-align: top;\n",
       "    }\n",
       "\n",
       "    .dataframe thead th {\n",
       "        text-align: right;\n",
       "    }\n",
       "</style>\n",
       "<table border=\"1\" class=\"dataframe\">\n",
       "  <thead>\n",
       "    <tr style=\"text-align: right;\">\n",
       "      <th></th>\n",
       "      <th>Card</th>\n",
       "      <th>Set ID</th>\n",
       "      <th>Quantity</th>\n",
       "      <th>Foil</th>\n",
       "      <th>CollectionID</th>\n",
       "    </tr>\n",
       "  </thead>\n",
       "  <tbody>\n",
       "    <tr>\n",
       "      <th>0</th>\n",
       "      <td>Abhorrent Overlord</td>\n",
       "      <td>THS</td>\n",
       "      <td>1</td>\n",
       "      <td>0</td>\n",
       "      <td>Abhorrent OverlordTHS</td>\n",
       "    </tr>\n",
       "    <tr>\n",
       "      <th>1</th>\n",
       "      <td>Abominable Treefolk</td>\n",
       "      <td>MH1</td>\n",
       "      <td>1</td>\n",
       "      <td>0</td>\n",
       "      <td>Abominable TreefolkMH1</td>\n",
       "    </tr>\n",
       "    <tr>\n",
       "      <th>2</th>\n",
       "      <td>Abrade</td>\n",
       "      <td>2XM</td>\n",
       "      <td>1</td>\n",
       "      <td>0</td>\n",
       "      <td>Abrade2XM</td>\n",
       "    </tr>\n",
       "    <tr>\n",
       "      <th>3</th>\n",
       "      <td>Abrupt Decay</td>\n",
       "      <td>MM3</td>\n",
       "      <td>2</td>\n",
       "      <td>0</td>\n",
       "      <td>Abrupt DecayMM3</td>\n",
       "    </tr>\n",
       "    <tr>\n",
       "      <th>4</th>\n",
       "      <td>Abundance</td>\n",
       "      <td>DDR</td>\n",
       "      <td>1</td>\n",
       "      <td>0</td>\n",
       "      <td>AbundanceDDR</td>\n",
       "    </tr>\n",
       "    <tr>\n",
       "      <th>...</th>\n",
       "      <td>...</td>\n",
       "      <td>...</td>\n",
       "      <td>...</td>\n",
       "      <td>...</td>\n",
       "      <td>...</td>\n",
       "    </tr>\n",
       "    <tr>\n",
       "      <th>1819</th>\n",
       "      <td>Zealous Conscripts</td>\n",
       "      <td>MM3</td>\n",
       "      <td>1</td>\n",
       "      <td>0</td>\n",
       "      <td>Zealous ConscriptsMM3</td>\n",
       "    </tr>\n",
       "    <tr>\n",
       "      <th>1820</th>\n",
       "      <td>Zedruu the Greathearted</td>\n",
       "      <td>C16</td>\n",
       "      <td>1</td>\n",
       "      <td>0</td>\n",
       "      <td>Zedruu the GreatheartedC16</td>\n",
       "    </tr>\n",
       "    <tr>\n",
       "      <th>1821</th>\n",
       "      <td>Zegana, Utopian Speaker</td>\n",
       "      <td>RNA</td>\n",
       "      <td>2</td>\n",
       "      <td>0</td>\n",
       "      <td>Zegana, Utopian SpeakerRNA</td>\n",
       "    </tr>\n",
       "    <tr>\n",
       "      <th>1822</th>\n",
       "      <td>Zurgo Bellstriker</td>\n",
       "      <td>DTK</td>\n",
       "      <td>1</td>\n",
       "      <td>0</td>\n",
       "      <td>Zurgo BellstrikerDTK</td>\n",
       "    </tr>\n",
       "    <tr>\n",
       "      <th>1823</th>\n",
       "      <td>Zurgo Helmsmasher</td>\n",
       "      <td>KTK</td>\n",
       "      <td>1</td>\n",
       "      <td>0</td>\n",
       "      <td>Zurgo HelmsmasherKTK</td>\n",
       "    </tr>\n",
       "  </tbody>\n",
       "</table>\n",
       "<p>1824 rows × 5 columns</p>\n",
       "</div>"
      ],
      "text/plain": [
       "                         Card Set ID  Quantity  Foil  \\\n",
       "0          Abhorrent Overlord    THS         1     0   \n",
       "1         Abominable Treefolk    MH1         1     0   \n",
       "2                      Abrade    2XM         1     0   \n",
       "3                Abrupt Decay    MM3         2     0   \n",
       "4                   Abundance    DDR         1     0   \n",
       "...                       ...    ...       ...   ...   \n",
       "1819       Zealous Conscripts    MM3         1     0   \n",
       "1820  Zedruu the Greathearted    C16         1     0   \n",
       "1821  Zegana, Utopian Speaker    RNA         2     0   \n",
       "1822        Zurgo Bellstriker    DTK         1     0   \n",
       "1823        Zurgo Helmsmasher    KTK         1     0   \n",
       "\n",
       "                    CollectionID  \n",
       "0          Abhorrent OverlordTHS  \n",
       "1         Abominable TreefolkMH1  \n",
       "2                      Abrade2XM  \n",
       "3                Abrupt DecayMM3  \n",
       "4                   AbundanceDDR  \n",
       "...                          ...  \n",
       "1819       Zealous ConscriptsMM3  \n",
       "1820  Zedruu the GreatheartedC16  \n",
       "1821  Zegana, Utopian SpeakerRNA  \n",
       "1822        Zurgo BellstrikerDTK  \n",
       "1823        Zurgo HelmsmasherKTK  \n",
       "\n",
       "[1824 rows x 5 columns]"
      ]
     },
     "execution_count": 7,
     "metadata": {},
     "output_type": "execute_result"
    }
   ],
   "source": [
    "CardsAdded"
   ]
  },
  {
   "cell_type": "markdown",
   "id": "b57b69e7-4b9a-416d-bbc5-03bfd44ec78f",
   "metadata": {},
   "source": [
    "# Identify"
   ]
  },
  {
   "cell_type": "code",
   "execution_count": 8,
   "id": "41f81222-2115-4c4f-929f-163392db8b84",
   "metadata": {},
   "outputs": [],
   "source": [
    "Identifier = CardData['CollectionID'].copy()\n",
    "Identifier = Identifier.reset_index()\n",
    "\n",
    "# Raise Exception for when a collection ID is not in the Identifer list prompting user to update DATA "
   ]
  },
  {
   "cell_type": "markdown",
   "id": "f10eb01a-13d5-4e80-b1ae-2c65b0ac6ce0",
   "metadata": {},
   "source": [
    "## Unidentifiable "
   ]
  },
  {
   "cell_type": "code",
   "execution_count": 9,
   "id": "af8205d3-550f-4b87-95f3-b4d6a3426b64",
   "metadata": {},
   "outputs": [],
   "source": [
    "acollectionID = CardsAdded['CollectionID'].tolist()\n",
    "rcollectionID = CardsRemoved['CollectionID'].tolist()"
   ]
  },
  {
   "cell_type": "markdown",
   "id": "0bf8aebe-1536-4905-b94c-f03559851d2c",
   "metadata": {},
   "source": [
    "#### Querry relevant cards"
   ]
  },
  {
   "cell_type": "code",
   "execution_count": 10,
   "id": "0b716f87-56ab-438a-932b-52c8f7111946",
   "metadata": {},
   "outputs": [],
   "source": [
    "afilt = Identifier['CollectionID'].isin(acollectionID)\n",
    "rfilt = Identifier['CollectionID'].isin(rcollectionID)\n",
    "\n",
    "aquery = Identifier[afilt].copy()\n",
    "rquery = Identifier[rfilt].copy()"
   ]
  },
  {
   "cell_type": "markdown",
   "id": "7063458f-e3ff-4911-ac6a-f34571a0e0af",
   "metadata": {
    "scrolled": true
   },
   "source": [
    "#### Locate Unidentifiable Cards"
   ]
  },
  {
   "cell_type": "code",
   "execution_count": 11,
   "id": "86537a51-8096-4df0-ae8e-19b3232822bd",
   "metadata": {},
   "outputs": [],
   "source": [
    "afilt = aquery['CollectionID'].duplicated()\n",
    "rfilt = rquery['CollectionID'].duplicated()\n",
    "\n",
    "aunidentifiable = aquery[afilt]['CollectionID'].tolist()\n",
    "runidentifiable = rquery[rfilt]['CollectionID'].tolist()"
   ]
  },
  {
   "cell_type": "markdown",
   "id": "04075b18-cddd-43ff-9b23-32851ad3ef0a",
   "metadata": {},
   "source": [
    "#### Remove and Save Unidentifiable Cards for Data"
   ]
  },
  {
   "cell_type": "code",
   "execution_count": 12,
   "id": "cd7df999-c82f-4e45-ba94-c9cdaeed9049",
   "metadata": {},
   "outputs": [],
   "source": [
    "afilt = CardsAdded['CollectionID'].isin(aunidentifiable)\n",
    "rfilt = CardsRemoved['CollectionID'].isin(runidentifiable)\n",
    "\n",
    "UnidentifiableAdded = CardsAdded[afilt].copy()\n",
    "UnidentifiableRemoved = CardsRemoved[rfilt].copy()\n",
    "\n",
    "IdentifiableAdded = CardsAdded[~afilt].copy()\n",
    "IdentifiableRemoved = CardsRemoved[~rfilt].copy()"
   ]
  },
  {
   "cell_type": "markdown",
   "id": "f2957be9-8dd1-4581-8910-4e4324f9781e",
   "metadata": {},
   "source": [
    "### Handling Unidentifiable Cards"
   ]
  },
  {
   "cell_type": "code",
   "execution_count": 13,
   "id": "3d89d1ab-3578-42b7-b4fb-08e15424ef7e",
   "metadata": {},
   "outputs": [],
   "source": [
    "## Pause Code\n",
    "## Ask to insert Card Collector Number \n",
    "## Resume Code"
   ]
  },
  {
   "cell_type": "markdown",
   "id": "e309f766-0b4a-4635-98b4-c1709978d14d",
   "metadata": {},
   "source": [
    "## Assign uuid"
   ]
  },
  {
   "cell_type": "code",
   "execution_count": 14,
   "id": "36f2e959-0f4b-4796-a2ca-aba2bf7d5951",
   "metadata": {
    "scrolled": true
   },
   "outputs": [],
   "source": [
    "# Added\n",
    "IdedCardsAdded = IdentifiableAdded.merge(Identifier, how= 'left', on = 'CollectionID', copy = True)\n",
    "\n",
    "IdedCardsAdded['uuidF'] = IdedCardsAdded['uuid'] + IdedCardsAdded['Foil'].astype('str')\n",
    "IdedCardsAdded.set_index('uuidF',inplace = True)\n",
    "\n",
    "IdedCardsAdded.drop(['CollectionID','Card','Set ID','Foil','uuid'],axis = 1,inplace = True)\n",
    "\n",
    "\n",
    "# Removed\n",
    "IdedCardsRemoved = IdentifiableRemoved.merge(Identifier, how= 'left', on = 'CollectionID', copy = True)\n",
    "\n",
    "IdedCardsRemoved['uuidF'] = IdedCardsRemoved['uuid'] + IdedCardsRemoved['Foil'].astype('str')\n",
    "IdedCardsRemoved.set_index('uuidF',inplace = True)\n",
    "\n",
    "IdedCardsRemoved.drop(['CollectionID','Card','Set ID','Foil','uuid'],axis = 1,inplace = True)"
   ]
  },
  {
   "cell_type": "markdown",
   "id": "46ad71da-9dd2-4f03-a644-f3d6240f055b",
   "metadata": {},
   "source": [
    "# Assign Binder"
   ]
  },
  {
   "cell_type": "code",
   "execution_count": 15,
   "id": "cf6b155e-2954-42d9-9cef-c6daabfd6644",
   "metadata": {},
   "outputs": [],
   "source": [
    "def assign_binder(uuidf):\n",
    "    global CardData\n",
    "    uuid =  uuidf[0:len(uuidf)-1]\n",
    "    foiling = int(uuidf[-1])\n",
    "    \n",
    "    card = CardData.loc[uuid].copy()\n",
    "    card['price'] = card['normal price'] + (card['foil price'] - card['normal price'])*foiling\n",
    "\n",
    "    global Collection \n",
    "    if uuidf in Collection.index:\n",
    "        return 'Collection'\n",
    "    \n",
    "    # Special \n",
    "    \n",
    "    # Land\n",
    "    if card['type'] == ('Land'):\n",
    "        return 'Land'\n",
    "    \n",
    "    # Value\n",
    "    if card['price'] > 5:\n",
    "        return 'Value'\n",
    "\n",
    "    # EDH\n",
    "    if card['edhrecRank'] < 1500:\n",
    "        return 'EDH'\n",
    "    # Bulk\n",
    "    if card['rarity'] in ['rare','mythic']:\n",
    "        return 'Bulk'\n",
    "    # Other\n",
    "    \n",
    "    return 'not Sorted'\n",
    "    \n",
    "\n",
    "    "
   ]
  },
  {
   "cell_type": "markdown",
   "id": "858ece68-17dd-47dd-b334-fdcf0fa9ddf3",
   "metadata": {},
   "source": [
    "## Assign Cards"
   ]
  },
  {
   "cell_type": "code",
   "execution_count": 16,
   "id": "3b4697a7-7070-4b7f-b116-dcf66f525b6a",
   "metadata": {
    "scrolled": true
   },
   "outputs": [],
   "source": [
    "BeingAssigned = IdedCardsAdded.copy()\n",
    "BeingAssigned['Binder'] = BeingAssigned.index.map(assign_binder)\n",
    "\n",
    "filt = BeingAssigned['Binder'] == 'Collection'\n",
    "\n",
    "AssignedCards = BeingAssigned[~filt].copy()\n",
    "CardsInCollection = BeingAssigned[filt].copy()"
   ]
  },
  {
   "cell_type": "markdown",
   "id": "d177b11d-b3ed-4513-9389-42ad6bd8f63f",
   "metadata": {},
   "source": [
    "## insert into collection "
   ]
  },
  {
   "cell_type": "raw",
   "id": "f5f2d477-6eac-4503-8a94-a90ece90756d",
   "metadata": {},
   "source": [
    "Not Sure if past me tested this. its not really relevant for the first batch so give it a look after you fix the main bugs."
   ]
  },
  {
   "cell_type": "code",
   "execution_count": 17,
   "id": "2be97f0f-b764-4834-b0de-701fb5547ce1",
   "metadata": {
    "scrolled": true
   },
   "outputs": [],
   "source": [
    "mask = Collection.index.isin(CardsInCollection.index)\n",
    "\n",
    "# Increase QTY for Existing Cards\n",
    "Collection['Quantity'] = Collection['Quantity'].add(CardsInCollection['Quantity'], fill_value=0)\n",
    "# Append New Cards to Collection\n",
    "Collection = pd.concat([Collection.astype(AssignedCards.dtypes), AssignedCards.astype(Collection.dtypes)])"
   ]
  },
  {
   "cell_type": "markdown",
   "id": "9d9fa216-7b5b-4f05-88f4-64a2c033b56b",
   "metadata": {},
   "source": [
    "# Insert in Binder"
   ]
  },
  {
   "cell_type": "markdown",
   "id": "d1a59581-a476-4b2a-b20b-91841186f72e",
   "metadata": {},
   "source": [
    "## Defintions"
   ]
  },
  {
   "cell_type": "code",
   "execution_count": 34,
   "id": "b4ac7eb3-87c9-4a4b-ae56-b595acd35230",
   "metadata": {},
   "outputs": [],
   "source": [
    "def add_page(binder, location):\n",
    "    mask = binder['Page'] > location\n",
    "    binder.loc[mask,'Page'] = binder.loc[mask,'Page'] + 1   \n",
    "\n",
    "# Page is added sepratly not sure if i have this return page + 1 would still manipulate the page, heck im actually not returning anything \n",
    "# and im already manipulating the inputed binder "
   ]
  },
  {
   "cell_type": "code",
   "execution_count": 19,
   "id": "d1b3217c-31f0-44ce-9883-f239ef31416b",
   "metadata": {},
   "outputs": [],
   "source": [
    "def add_card(binder, card, uuid,page, slot):\n",
    "    global CardData\n",
    "    \n",
    "    Page = page\n",
    "    Slot = slot\n",
    "    Scolor = CardData.loc[uuid,'order']\n",
    "    SmanaValue = CardData.loc[uuid,'manaValue']\n",
    "    \n",
    "    l = len(binder)\n",
    "    binder.loc[l] = [Page,Slot,Scolor,SmanaValue]\n",
    "    binder.rename(index = {l: card.name},inplace = True)    "
   ]
  },
  {
   "cell_type": "code",
   "execution_count": 20,
   "id": "30b33f2e-38f9-4a28-88c8-46d570542441",
   "metadata": {},
   "outputs": [],
   "source": [
    "\n",
    "def add(binder, cards):\n",
    "    binder = binder.copy()\n",
    "    global CardData\n",
    "\n",
    "    for i, card in cards.iterrows():\n",
    "\n",
    "        uuid = i[0:len(i)-1]\n",
    "        card_data = CardData.loc[uuid]\n",
    "        color_section = card_data['order']\n",
    "        mv_section = card_data['manaValue']\n",
    "\n",
    "\n",
    "        # if section exists \n",
    "        filt = (binder['Scolor'] == color_section) & (binder['SmanaValue'] == mv_section)\n",
    "        slice = binder[filt]\n",
    "\n",
    "        if len(slice) > 0:\n",
    "            page = slice['Page'].max() \n",
    "            slot = slice.loc[(slice['Page'] == page),'Slot'].max()\n",
    "\n",
    "            if slot < 9:\n",
    "                slot = slot + 1\n",
    "            else:\n",
    "                add_page(binder,page)\n",
    "                page = page + 1\n",
    "                slot = 1\n",
    "                \n",
    "            add_card(binder, card, uuid,page, slot)\n",
    "            continue \n",
    "\n",
    "        # if section doesnt exist\n",
    "        filt = (binder['Scolor'] <= color_section)\n",
    "        color_slice = binder[filt]    \n",
    "        closet_color = color_slice['Scolor'].max()\n",
    "\n",
    "        if not pd.isna(closet_color):\n",
    "            \n",
    "            # put this in an if statemnt the checks if closest color is color\n",
    "            filt = (binder['Scolor'] == closet_color) \n",
    "            color_slice = binder[filt]\n",
    "\n",
    "            filt = (color_slice['SmanaValue'] < mv_section)\n",
    "            slice = color_slice[filt]\n",
    "\n",
    "            if closet_color != color_section:\n",
    "                page = color_slice['Page'].max()\n",
    "            #Color Section Exist no CMC > Cards\n",
    "            elif slice.empty:\n",
    "                page = color_slice['Page'].min() - 1\n",
    "            #Color Sections Exists CMC > Card also exist\n",
    "            else: \n",
    "                page = slice['Page'].max()\n",
    "        else: \n",
    "            page = 0 \n",
    "        \n",
    "        add_page(binder,page)\n",
    "        page = page + 1 \n",
    "        slot = 1\n",
    "        add_card(binder, card, uuid,page, slot)\n",
    "\n",
    "    return binder.sort_values(['Page','Slot'])    "
   ]
  },
  {
   "cell_type": "code",
   "execution_count": 21,
   "id": "70031eb9-bb00-494e-977c-d31ba135e802",
   "metadata": {},
   "outputs": [],
   "source": [
    "def remove(Binder, Cards):\n",
    "    pass"
   ]
  },
  {
   "cell_type": "markdown",
   "id": "621904fd-9212-4bd6-be4e-0ba54097de6f",
   "metadata": {},
   "source": [
    "## inserting into binder"
   ]
  },
  {
   "cell_type": "markdown",
   "id": "383da553-600a-475f-b7c8-5b027c8c6898",
   "metadata": {},
   "source": [
    "### Land"
   ]
  },
  {
   "cell_type": "code",
   "execution_count": 22,
   "id": "fc7bbac9-b4ac-463c-8a1b-9596164264c6",
   "metadata": {},
   "outputs": [],
   "source": [
    "LandList = AssignedCards[AssignedCards['Binder'] == 'Land']"
   ]
  },
  {
   "cell_type": "markdown",
   "id": "ba7332cc-55f3-4bcd-90dd-1346cc94f015",
   "metadata": {},
   "source": [
    "### Value"
   ]
  },
  {
   "cell_type": "code",
   "execution_count": 23,
   "id": "3f2c170f-f5ff-4c36-bd45-08b927250e96",
   "metadata": {},
   "outputs": [],
   "source": [
    "filt = AssignedCards['Binder'] == 'Value'\n",
    "cards = AssignedCards[filt]\n",
    "ValueBinder = add(ValueBinder, cards)"
   ]
  },
  {
   "cell_type": "markdown",
   "id": "c2880205-e32a-4880-8c10-bf6ee415307e",
   "metadata": {},
   "source": [
    "### EDH"
   ]
  },
  {
   "cell_type": "code",
   "execution_count": 24,
   "id": "ac31332d-5572-497f-a49e-d23eea3e941f",
   "metadata": {},
   "outputs": [],
   "source": [
    "filt = AssignedCards['Binder'] == 'EDH'\n",
    "cards = AssignedCards[filt]\n",
    "EDHBinder = add(EDHBinder, cards)"
   ]
  },
  {
   "cell_type": "markdown",
   "id": "9eaf646d-7f6f-4f6a-9a14-0e3af2e8d1d2",
   "metadata": {},
   "source": [
    "### Bulk"
   ]
  },
  {
   "cell_type": "code",
   "execution_count": 25,
   "id": "304f12ff-cecf-45d1-918f-7da46952749b",
   "metadata": {},
   "outputs": [],
   "source": [
    "filt = AssignedCards['Binder'] == 'Bulk'\n",
    "cards = AssignedCards[filt]\n",
    "BulkBinder = add(BulkBinder, cards)"
   ]
  },
  {
   "cell_type": "markdown",
   "id": "0dcb73e7-d9ab-4804-9f6b-35bf519a2da1",
   "metadata": {},
   "source": [
    "## Other"
   ]
  },
  {
   "cell_type": "code",
   "execution_count": 26,
   "id": "352fd772-8396-4f77-beeb-04b562ce7ad1",
   "metadata": {},
   "outputs": [],
   "source": [
    "otherlist = AssignedCards[AssignedCards['Binder'] == 'not Sorted']"
   ]
  },
  {
   "cell_type": "markdown",
   "id": "fcf26c8b-7cbb-4cd0-8f0d-c6d426a7e679",
   "metadata": {},
   "source": [
    "# Remove Cards"
   ]
  },
  {
   "cell_type": "code",
   "execution_count": null,
   "id": "7b1c6c64-54b2-4e86-b289-c24737781191",
   "metadata": {},
   "outputs": [],
   "source": [
    "# Subtract Cards Removed From Collection \n",
    "# Check if Qty = 0 \n",
    "# if Q = 0 remove cards from binder \n",
    "#     # to do this append all binders together and merge with  filter by for QTY = 0 after by ussing the uuid in collection"
   ]
  },
  {
   "cell_type": "code",
   "execution_count": 32,
   "id": "4d8e8961-cd1e-4adb-b8e5-c38881c6915c",
   "metadata": {
    "scrolled": true
   },
   "outputs": [
    {
     "data": {
      "text/html": [
       "<div>\n",
       "<style scoped>\n",
       "    .dataframe tbody tr th:only-of-type {\n",
       "        vertical-align: middle;\n",
       "    }\n",
       "\n",
       "    .dataframe tbody tr th {\n",
       "        vertical-align: top;\n",
       "    }\n",
       "\n",
       "    .dataframe thead th {\n",
       "        text-align: right;\n",
       "    }\n",
       "</style>\n",
       "<table border=\"1\" class=\"dataframe\">\n",
       "  <thead>\n",
       "    <tr style=\"text-align: right;\">\n",
       "      <th></th>\n",
       "      <th>Quantity</th>\n",
       "    </tr>\n",
       "    <tr>\n",
       "      <th>uuidF</th>\n",
       "      <th></th>\n",
       "    </tr>\n",
       "  </thead>\n",
       "  <tbody>\n",
       "  </tbody>\n",
       "</table>\n",
       "</div>"
      ],
      "text/plain": [
       "Empty DataFrame\n",
       "Columns: [Quantity]\n",
       "Index: []"
      ]
     },
     "execution_count": 32,
     "metadata": {},
     "output_type": "execute_result"
    }
   ],
   "source": [
    "IdedCardsRemoved"
   ]
  },
  {
   "cell_type": "code",
   "execution_count": 33,
   "id": "c10e3be1-73a5-42c8-8801-f20c483ced25",
   "metadata": {},
   "outputs": [
    {
     "data": {
      "text/html": [
       "<div>\n",
       "<style scoped>\n",
       "    .dataframe tbody tr th:only-of-type {\n",
       "        vertical-align: middle;\n",
       "    }\n",
       "\n",
       "    .dataframe tbody tr th {\n",
       "        vertical-align: top;\n",
       "    }\n",
       "\n",
       "    .dataframe thead th {\n",
       "        text-align: right;\n",
       "    }\n",
       "</style>\n",
       "<table border=\"1\" class=\"dataframe\">\n",
       "  <thead>\n",
       "    <tr style=\"text-align: right;\">\n",
       "      <th></th>\n",
       "      <th>Quantity</th>\n",
       "      <th>Binder</th>\n",
       "    </tr>\n",
       "    <tr>\n",
       "      <th>uuidF</th>\n",
       "      <th></th>\n",
       "      <th></th>\n",
       "    </tr>\n",
       "  </thead>\n",
       "  <tbody>\n",
       "    <tr>\n",
       "      <th>56c53552-6f92-51fa-974a-40edcb6ca76e0</th>\n",
       "      <td>1</td>\n",
       "      <td>Bulk</td>\n",
       "    </tr>\n",
       "    <tr>\n",
       "      <th>e72320c5-aa3a-5fd9-88d0-56f0d71f9e7b0</th>\n",
       "      <td>1</td>\n",
       "      <td>not Sorted</td>\n",
       "    </tr>\n",
       "    <tr>\n",
       "      <th>01df4e32-7fe4-5b8d-9460-0f08fa29153e0</th>\n",
       "      <td>1</td>\n",
       "      <td>EDH</td>\n",
       "    </tr>\n",
       "    <tr>\n",
       "      <th>b11a2ad4-06b7-508a-925e-37507ba371c40</th>\n",
       "      <td>2</td>\n",
       "      <td>EDH</td>\n",
       "    </tr>\n",
       "    <tr>\n",
       "      <th>5f0ba7fd-1290-5668-b953-4d0876f88f270</th>\n",
       "      <td>1</td>\n",
       "      <td>EDH</td>\n",
       "    </tr>\n",
       "    <tr>\n",
       "      <th>...</th>\n",
       "      <td>...</td>\n",
       "      <td>...</td>\n",
       "    </tr>\n",
       "    <tr>\n",
       "      <th>2854d82c-4a8b-523b-bbaf-7102d93fc5cd0</th>\n",
       "      <td>1</td>\n",
       "      <td>EDH</td>\n",
       "    </tr>\n",
       "    <tr>\n",
       "      <th>2349cff1-4218-55c6-bff0-819bc15510480</th>\n",
       "      <td>1</td>\n",
       "      <td>Bulk</td>\n",
       "    </tr>\n",
       "    <tr>\n",
       "      <th>ccdabe5f-edcb-561c-b2c8-95ff1bba5c110</th>\n",
       "      <td>2</td>\n",
       "      <td>Bulk</td>\n",
       "    </tr>\n",
       "    <tr>\n",
       "      <th>d9dafe58-eb88-51b1-a8c2-9dbbbb8996d40</th>\n",
       "      <td>1</td>\n",
       "      <td>Bulk</td>\n",
       "    </tr>\n",
       "    <tr>\n",
       "      <th>cde24b01-b97c-5f77-9961-6d9ac24ab1720</th>\n",
       "      <td>1</td>\n",
       "      <td>Bulk</td>\n",
       "    </tr>\n",
       "  </tbody>\n",
       "</table>\n",
       "<p>1669 rows × 2 columns</p>\n",
       "</div>"
      ],
      "text/plain": [
       "                                      Quantity      Binder\n",
       "uuidF                                                     \n",
       "56c53552-6f92-51fa-974a-40edcb6ca76e0        1        Bulk\n",
       "e72320c5-aa3a-5fd9-88d0-56f0d71f9e7b0        1  not Sorted\n",
       "01df4e32-7fe4-5b8d-9460-0f08fa29153e0        1         EDH\n",
       "b11a2ad4-06b7-508a-925e-37507ba371c40        2         EDH\n",
       "5f0ba7fd-1290-5668-b953-4d0876f88f270        1         EDH\n",
       "...                                        ...         ...\n",
       "2854d82c-4a8b-523b-bbaf-7102d93fc5cd0        1         EDH\n",
       "2349cff1-4218-55c6-bff0-819bc15510480        1        Bulk\n",
       "ccdabe5f-edcb-561c-b2c8-95ff1bba5c110        2        Bulk\n",
       "d9dafe58-eb88-51b1-a8c2-9dbbbb8996d40        1        Bulk\n",
       "cde24b01-b97c-5f77-9961-6d9ac24ab1720        1        Bulk\n",
       "\n",
       "[1669 rows x 2 columns]"
      ]
     },
     "execution_count": 33,
     "metadata": {},
     "output_type": "execute_result"
    }
   ],
   "source": [
    "Collection"
   ]
  },
  {
   "cell_type": "markdown",
   "id": "a3ebb9a2-536b-43bd-a64f-20b65f82a508",
   "metadata": {},
   "source": [
    "# Export"
   ]
  },
  {
   "cell_type": "code",
   "execution_count": 27,
   "id": "1c3c41a0-4ea1-48fe-b19b-e1538fbcaf3d",
   "metadata": {},
   "outputs": [],
   "source": [
    "#Export to collection Folder\n",
    "Collection.to_csv('Collection/Raw/Collection.csv')\n",
    "ValueBinder.to_csv('Collection/Raw/ValueBinder.csv')\n",
    "EDHBinder.to_csv('Collection/Raw/EDHBinder.csv')\n",
    "BulkBinder.to_csv('Collection/Raw/BulkBinder.csv')\n",
    "\n",
    "LandList.to_csv('Collection/Raw/not_Sorted/Land.csv')\n",
    "otherlist.to_csv('Collection/Raw/not_Sorted/other.csv')\n",
    "\n",
    "# unidtifiable \n"
   ]
  },
  {
   "cell_type": "code",
   "execution_count": 28,
   "id": "2dd6ab13-5b0b-4c43-bb0d-5a15d1882593",
   "metadata": {},
   "outputs": [],
   "source": [
    "# Reset Loader\n",
    "CardsAdded.drop(CardsAdded.index, inplace = True)\n",
    "CardsAdded.drop('CollectionID',axis = 1, inplace = True)\n",
    "CardsAdded.to_csv('Loader/CardsToBeAdded.csv')\n",
    "\n",
    "CardsRemoved.drop(CardsRemoved.index, inplace = True)\n",
    "CardsRemoved.drop('CollectionID',axis = 1, inplace = True)\n",
    "CardsRemoved.to_csv('Loader/CardsToBeRemoved.csv')"
   ]
  },
  {
   "cell_type": "code",
   "execution_count": 29,
   "id": "ed3213e7-a7b4-4283-a79f-20a24120bba2",
   "metadata": {},
   "outputs": [],
   "source": [
    "#Return Unidentified List \n",
    "UnidentifiableAdded.drop('CollectionID',axis = 1, inplace = True)\n",
    "UnidentifiableAdded.to_csv('Loader/Unidentified/UnidentifiableAdded.csv')\n",
    "\n",
    "UnidentifiableRemoved.drop('CollectionID',axis = 1, inplace = True)\n",
    "UnidentifiableRemoved.to_csv('Loader/Unidentified/UnidentifiableRemoved.csv')"
   ]
  },
  {
   "cell_type": "code",
   "execution_count": 30,
   "id": "3c458cc8-8e68-4ddc-a802-37c631841114",
   "metadata": {},
   "outputs": [
    {
     "data": {
      "text/plain": [
       "'Blood Speaker'"
      ]
     },
     "execution_count": 30,
     "metadata": {},
     "output_type": "execute_result"
    }
   ],
   "source": [
    "CardData.loc['7d40e039-e287-53e8-8b55-08a425c62aab','name']"
   ]
  },
  {
   "cell_type": "code",
   "execution_count": 31,
   "id": "464b3e50-4a64-4215-9ef4-0bdca67e6dfe",
   "metadata": {},
   "outputs": [
    {
     "data": {
      "text/html": [
       "<div>\n",
       "<style scoped>\n",
       "    .dataframe tbody tr th:only-of-type {\n",
       "        vertical-align: middle;\n",
       "    }\n",
       "\n",
       "    .dataframe tbody tr th {\n",
       "        vertical-align: top;\n",
       "    }\n",
       "\n",
       "    .dataframe thead th {\n",
       "        text-align: right;\n",
       "    }\n",
       "</style>\n",
       "<table border=\"1\" class=\"dataframe\">\n",
       "  <thead>\n",
       "    <tr style=\"text-align: right;\">\n",
       "      <th></th>\n",
       "      <th>Page</th>\n",
       "      <th>Slot</th>\n",
       "      <th>Scolor</th>\n",
       "      <th>SmanaValue</th>\n",
       "    </tr>\n",
       "    <tr>\n",
       "      <th>uuidF</th>\n",
       "      <th></th>\n",
       "      <th></th>\n",
       "      <th></th>\n",
       "      <th></th>\n",
       "    </tr>\n",
       "  </thead>\n",
       "  <tbody>\n",
       "    <tr>\n",
       "      <th>bd1d5176-824c-56d7-a682-770b2ba91b9f0</th>\n",
       "      <td>1.0</td>\n",
       "      <td>1.0</td>\n",
       "      <td>1.0</td>\n",
       "      <td>1.0</td>\n",
       "    </tr>\n",
       "    <tr>\n",
       "      <th>b15d098d-2855-53fc-ab42-9047960556141</th>\n",
       "      <td>1.0</td>\n",
       "      <td>2.0</td>\n",
       "      <td>1.0</td>\n",
       "      <td>1.0</td>\n",
       "    </tr>\n",
       "    <tr>\n",
       "      <th>488fa58a-db5b-520e-84ae-0c79a2988f480</th>\n",
       "      <td>1.0</td>\n",
       "      <td>3.0</td>\n",
       "      <td>1.0</td>\n",
       "      <td>1.0</td>\n",
       "    </tr>\n",
       "    <tr>\n",
       "      <th>ed8a0c79-e338-5d0b-8a26-7a4ccb639bfe0</th>\n",
       "      <td>1.0</td>\n",
       "      <td>4.0</td>\n",
       "      <td>1.0</td>\n",
       "      <td>1.0</td>\n",
       "    </tr>\n",
       "    <tr>\n",
       "      <th>5fc178d7-de62-525c-a83d-cc9090d76f150</th>\n",
       "      <td>2.0</td>\n",
       "      <td>1.0</td>\n",
       "      <td>1.0</td>\n",
       "      <td>2.0</td>\n",
       "    </tr>\n",
       "    <tr>\n",
       "      <th>...</th>\n",
       "      <td>...</td>\n",
       "      <td>...</td>\n",
       "      <td>...</td>\n",
       "      <td>...</td>\n",
       "    </tr>\n",
       "    <tr>\n",
       "      <th>7b374d85-9ca5-5346-9b9c-bf49de99706d0</th>\n",
       "      <td>73.0</td>\n",
       "      <td>4.0</td>\n",
       "      <td>28.0</td>\n",
       "      <td>6.0</td>\n",
       "    </tr>\n",
       "    <tr>\n",
       "      <th>f429b606-9aa0-5c99-bc6a-4eeab4fabc120</th>\n",
       "      <td>74.0</td>\n",
       "      <td>1.0</td>\n",
       "      <td>28.0</td>\n",
       "      <td>7.0</td>\n",
       "    </tr>\n",
       "    <tr>\n",
       "      <th>3d769d2e-73ed-5ba9-9bd5-545f82c81f120</th>\n",
       "      <td>74.0</td>\n",
       "      <td>2.0</td>\n",
       "      <td>28.0</td>\n",
       "      <td>7.0</td>\n",
       "    </tr>\n",
       "    <tr>\n",
       "      <th>03b522e5-b07f-544a-aa96-cb460fa153660</th>\n",
       "      <td>74.0</td>\n",
       "      <td>3.0</td>\n",
       "      <td>28.0</td>\n",
       "      <td>7.0</td>\n",
       "    </tr>\n",
       "    <tr>\n",
       "      <th>7e2785ae-5b20-5a46-a898-3ebf64dc42800</th>\n",
       "      <td>75.0</td>\n",
       "      <td>1.0</td>\n",
       "      <td>28.0</td>\n",
       "      <td>9.0</td>\n",
       "    </tr>\n",
       "  </tbody>\n",
       "</table>\n",
       "<p>291 rows × 4 columns</p>\n",
       "</div>"
      ],
      "text/plain": [
       "                                       Page  Slot  Scolor  SmanaValue\n",
       "uuidF                                                                \n",
       "bd1d5176-824c-56d7-a682-770b2ba91b9f0   1.0   1.0     1.0         1.0\n",
       "b15d098d-2855-53fc-ab42-9047960556141   1.0   2.0     1.0         1.0\n",
       "488fa58a-db5b-520e-84ae-0c79a2988f480   1.0   3.0     1.0         1.0\n",
       "ed8a0c79-e338-5d0b-8a26-7a4ccb639bfe0   1.0   4.0     1.0         1.0\n",
       "5fc178d7-de62-525c-a83d-cc9090d76f150   2.0   1.0     1.0         2.0\n",
       "...                                     ...   ...     ...         ...\n",
       "7b374d85-9ca5-5346-9b9c-bf49de99706d0  73.0   4.0    28.0         6.0\n",
       "f429b606-9aa0-5c99-bc6a-4eeab4fabc120  74.0   1.0    28.0         7.0\n",
       "3d769d2e-73ed-5ba9-9bd5-545f82c81f120  74.0   2.0    28.0         7.0\n",
       "03b522e5-b07f-544a-aa96-cb460fa153660  74.0   3.0    28.0         7.0\n",
       "7e2785ae-5b20-5a46-a898-3ebf64dc42800  75.0   1.0    28.0         9.0\n",
       "\n",
       "[291 rows x 4 columns]"
      ]
     },
     "execution_count": 31,
     "metadata": {},
     "output_type": "execute_result"
    }
   ],
   "source": [
    "EDHBinder"
   ]
  },
  {
   "cell_type": "code",
   "execution_count": null,
   "id": "c1b39d04-6e5c-4fbc-938c-60d8e1a67b0b",
   "metadata": {},
   "outputs": [],
   "source": []
  }
 ],
 "metadata": {
  "kernelspec": {
   "display_name": "Python 3 (ipykernel)",
   "language": "python",
   "name": "python3"
  },
  "language_info": {
   "codemirror_mode": {
    "name": "ipython",
    "version": 3
   },
   "file_extension": ".py",
   "mimetype": "text/x-python",
   "name": "python",
   "nbconvert_exporter": "python",
   "pygments_lexer": "ipython3",
   "version": "3.11.5"
  }
 },
 "nbformat": 4,
 "nbformat_minor": 5
}
