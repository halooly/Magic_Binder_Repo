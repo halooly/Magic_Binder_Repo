{
 "cells": [
  {
   "cell_type": "code",
   "execution_count": 1,
   "id": "90879135-8ef6-4b98-af51-47aa67802cc1",
   "metadata": {},
   "outputs": [],
   "source": [
    "import pandas as pd"
   ]
  },
  {
   "cell_type": "markdown",
   "id": "66ccf4b8-71e9-45f2-9f49-10d9e2e3e8ec",
   "metadata": {},
   "source": [
    "# Price Data:"
   ]
  },
  {
   "cell_type": "markdown",
   "id": "6fd5cd69-82f3-41ca-b791-a26261a0d436",
   "metadata": {},
   "source": [
    "### Clean Data:"
   ]
  },
  {
   "cell_type": "code",
   "execution_count": 2,
   "id": "3fea157f-e59f-45d7-ad5f-294b9764be2b",
   "metadata": {},
   "outputs": [],
   "source": [
    "# Load Price Data\n",
    "PricesData = pd.read_csv('Data/cardPrices.csv',index_col = 'uuid')"
   ]
  },
  {
   "cell_type": "code",
   "execution_count": 3,
   "id": "66106396-6756-4114-8cf0-1ee6fdbb2200",
   "metadata": {},
   "outputs": [],
   "source": [
    "# Filter Mtgo Cards \n",
    "filter = PricesData['gameAvailability'] == 'paper'\n",
    "Prices = PricesData[filter].copy()"
   ]
  },
  {
   "cell_type": "code",
   "execution_count": 4,
   "id": "2d0b89e9-762e-4071-8614-3e50af1ca5a9",
   "metadata": {},
   "outputs": [],
   "source": [
    "# Standarized Prices \n",
    "mask = (Prices['currency'] == 'EUR')\n",
    "Prices_masked = Prices[mask]\n",
    "\n",
    "Prices['price USD'] = Prices['price']\n",
    "Prices.loc[mask,'price USD']= Prices_masked['price'] *1.06"
   ]
  },
  {
   "cell_type": "code",
   "execution_count": 5,
   "id": "ea12ceca-2280-4b01-b512-1428d9a05bd6",
   "metadata": {},
   "outputs": [],
   "source": [
    "# Drop Extraneous Data\n",
    "Prices.drop(['price','gameAvailability','currency','date'],axis=1,inplace = True)"
   ]
  },
  {
   "cell_type": "markdown",
   "id": "0bfd570b-1000-464e-ac97-853d91574cd5",
   "metadata": {},
   "source": [
    "### Pivot Data"
   ]
  },
  {
   "cell_type": "code",
   "execution_count": 6,
   "id": "91864685-27e4-408b-a0dc-377229b650f8",
   "metadata": {},
   "outputs": [],
   "source": [
    "# Pivot Price Data \n",
    "foil_retailPrices = Prices.groupby(['providerListing']).get_group('retail').groupby(['cardFinish']).get_group('foil')['price USD'].groupby('uuid').mean()\n",
    "foil_buylistPrices = Prices.groupby(['providerListing']).get_group('buylist').groupby(['cardFinish']).get_group('foil')['price USD'].groupby('uuid').mean()\n",
    "normal_retailPrices = Prices.groupby(['providerListing']).get_group('retail').groupby(['cardFinish']).get_group('normal')['price USD'].groupby('uuid').mean()\n",
    "normal_buylistPrices = Prices.groupby(['providerListing']).get_group('buylist').groupby(['cardFinish']).get_group('normal')['price USD'].groupby('uuid').mean()"
   ]
  },
  {
   "cell_type": "code",
   "execution_count": 7,
   "id": "8df46828-80bc-4e7f-9e3c-80fa82661b2f",
   "metadata": {},
   "outputs": [],
   "source": [
    "# Normal Print Prices\n",
    "normalprices = pd.merge(normal_retailPrices,normal_buylistPrices,how = 'outer', right_index = True,left_index = True)\n",
    "\n",
    "normalprices['normal price'] = normalprices['price USD_x'].fillna(normalprices['price USD_y'])\n",
    "normalprices.drop(['price USD_x','price USD_y'],axis=1,inplace = True)"
   ]
  },
  {
   "cell_type": "code",
   "execution_count": 8,
   "id": "c4bd3c74-68e8-4c2f-83fa-5a9c4d060011",
   "metadata": {},
   "outputs": [],
   "source": [
    "# Foil Print Prices \n",
    "foilprices = pd.merge(foil_retailPrices,foil_buylistPrices,how = 'outer', right_index = True,left_index = True)\n",
    "\n",
    "foilprices['foil price'] = foilprices['price USD_x'].fillna(foilprices['price USD_y'])\n",
    "foilprices.drop(['price USD_x','price USD_y'],axis=1,inplace = True)"
   ]
  },
  {
   "cell_type": "code",
   "execution_count": 9,
   "id": "f1c0d48b-ce56-43c9-87f7-c79b4a07f2bb",
   "metadata": {
    "scrolled": true
   },
   "outputs": [
    {
     "data": {
      "text/html": [
       "<div>\n",
       "<style scoped>\n",
       "    .dataframe tbody tr th:only-of-type {\n",
       "        vertical-align: middle;\n",
       "    }\n",
       "\n",
       "    .dataframe tbody tr th {\n",
       "        vertical-align: top;\n",
       "    }\n",
       "\n",
       "    .dataframe thead th {\n",
       "        text-align: right;\n",
       "    }\n",
       "</style>\n",
       "<table border=\"1\" class=\"dataframe\">\n",
       "  <thead>\n",
       "    <tr style=\"text-align: right;\">\n",
       "      <th></th>\n",
       "      <th>normal price</th>\n",
       "      <th>foil price</th>\n",
       "    </tr>\n",
       "    <tr>\n",
       "      <th>uuid</th>\n",
       "      <th></th>\n",
       "      <th></th>\n",
       "    </tr>\n",
       "  </thead>\n",
       "  <tbody>\n",
       "    <tr>\n",
       "      <th>00010d56-fe38-5e35-8aed-518019aa36a5</th>\n",
       "      <td>5.987500</td>\n",
       "      <td>7.460000</td>\n",
       "    </tr>\n",
       "    <tr>\n",
       "      <th>0001e0d0-2dcd-5640-aadc-a84765cf5fc9</th>\n",
       "      <td>4.951500</td>\n",
       "      <td>NaN</td>\n",
       "    </tr>\n",
       "    <tr>\n",
       "      <th>0003caab-9ff5-5d1a-bc06-976dd0457f19</th>\n",
       "      <td>0.826550</td>\n",
       "      <td>3.405067</td>\n",
       "    </tr>\n",
       "    <tr>\n",
       "      <th>0003d249-25d9-5223-af1e-1130f09622a7</th>\n",
       "      <td>0.185300</td>\n",
       "      <td>0.417000</td>\n",
       "    </tr>\n",
       "    <tr>\n",
       "      <th>0004a4fb-92c6-59b2-bdbe-ceb584a9e401</th>\n",
       "      <td>1.256850</td>\n",
       "      <td>3.205667</td>\n",
       "    </tr>\n",
       "    <tr>\n",
       "      <th>...</th>\n",
       "      <td>...</td>\n",
       "      <td>...</td>\n",
       "    </tr>\n",
       "    <tr>\n",
       "      <th>fffbc95a-c4d1-56aa-8653-8a7c71fe19ce</th>\n",
       "      <td>6.034300</td>\n",
       "      <td>7.420000</td>\n",
       "    </tr>\n",
       "    <tr>\n",
       "      <th>fffbfc17-a457-565d-a1ed-aefe5810c86a</th>\n",
       "      <td>2.880000</td>\n",
       "      <td>4.359800</td>\n",
       "    </tr>\n",
       "    <tr>\n",
       "      <th>fffc1305-a118-559b-9504-3d7b56ca0bde</th>\n",
       "      <td>0.791500</td>\n",
       "      <td>NaN</td>\n",
       "    </tr>\n",
       "    <tr>\n",
       "      <th>fffdd333-3789-5104-a8be-37be199a2cb1</th>\n",
       "      <td>1.547850</td>\n",
       "      <td>NaN</td>\n",
       "    </tr>\n",
       "    <tr>\n",
       "      <th>fffe10ca-d43b-5234-b768-201cc5c2217e</th>\n",
       "      <td>3.040333</td>\n",
       "      <td>NaN</td>\n",
       "    </tr>\n",
       "  </tbody>\n",
       "</table>\n",
       "<p>75410 rows × 2 columns</p>\n",
       "</div>"
      ],
      "text/plain": [
       "                                      normal price  foil price\n",
       "uuid                                                          \n",
       "00010d56-fe38-5e35-8aed-518019aa36a5      5.987500    7.460000\n",
       "0001e0d0-2dcd-5640-aadc-a84765cf5fc9      4.951500         NaN\n",
       "0003caab-9ff5-5d1a-bc06-976dd0457f19      0.826550    3.405067\n",
       "0003d249-25d9-5223-af1e-1130f09622a7      0.185300    0.417000\n",
       "0004a4fb-92c6-59b2-bdbe-ceb584a9e401      1.256850    3.205667\n",
       "...                                            ...         ...\n",
       "fffbc95a-c4d1-56aa-8653-8a7c71fe19ce      6.034300    7.420000\n",
       "fffbfc17-a457-565d-a1ed-aefe5810c86a      2.880000    4.359800\n",
       "fffc1305-a118-559b-9504-3d7b56ca0bde      0.791500         NaN\n",
       "fffdd333-3789-5104-a8be-37be199a2cb1      1.547850         NaN\n",
       "fffe10ca-d43b-5234-b768-201cc5c2217e      3.040333         NaN\n",
       "\n",
       "[75410 rows x 2 columns]"
      ]
     },
     "execution_count": 9,
     "metadata": {},
     "output_type": "execute_result"
    }
   ],
   "source": [
    "Prices = pd.merge(normalprices,foilprices,how = 'outer', right_index = True,left_index = True)\n",
    "Prices"
   ]
  },
  {
   "cell_type": "markdown",
   "id": "0e83a73e-94f7-4fee-a371-834c1a654f87",
   "metadata": {},
   "source": [
    "# All Cards Data"
   ]
  },
  {
   "cell_type": "markdown",
   "id": "efe49bd6-3f2d-4bf5-a084-6745348a8c62",
   "metadata": {},
   "source": [
    "### Clean Data"
   ]
  },
  {
   "cell_type": "code",
   "execution_count": 10,
   "id": "21b9d106-858b-4016-ab8e-12067a15448d",
   "metadata": {},
   "outputs": [
    {
     "name": "stderr",
     "output_type": "stream",
     "text": [
      "C:\\Users\\helal\\AppData\\Local\\Temp\\ipykernel_3228\\787122630.py:2: DtypeWarning: Columns (3,7,12,16,20,23,47,52,53,61,62,66,68) have mixed types. Specify dtype option on import or set low_memory=False.\n",
      "  CardData = pd.read_csv('Data/cards.csv',index_col = 'uuid')\n"
     ]
    }
   ],
   "source": [
    "# Load Card Data \n",
    "CardData = pd.read_csv('Data/cards.csv',index_col = 'uuid')\n",
    "CardData['uuid'] = CardData.index"
   ]
  },
  {
   "cell_type": "code",
   "execution_count": 11,
   "id": "5b811012-32a5-443e-87c9-4dd3cbf1bfbd",
   "metadata": {},
   "outputs": [],
   "source": [
    "#Fill Na in Relevant Columns \n",
    "CardData['isOnlineOnly'].fillna(0, inplace = True)\n",
    "CardData['isOversized'].fillna(0, inplace = True)\n",
    "CardData['colors'].fillna('C', inplace = True)\n",
    "CardData['cardParts'].fillna(0, inplace = True)"
   ]
  },
  {
   "cell_type": "code",
   "execution_count": 12,
   "id": "fd107c0b-8e91-4a8c-ac0c-a243b4ef03fb",
   "metadata": {
    "scrolled": true
   },
   "outputs": [],
   "source": [
    "# Filter out Mtgo & over sized cards Cards \n",
    "filt = (CardData['isOnlineOnly'] == 0) & (CardData['isOversized'] == 0)\n",
    "Cards = CardData[filt].copy()"
   ]
  },
  {
   "cell_type": "markdown",
   "id": "6731372f-9695-4c63-9366-eadadf3ce9b5",
   "metadata": {},
   "source": [
    "### Set up Collection Identifier"
   ]
  },
  {
   "cell_type": "code",
   "execution_count": 13,
   "id": "5098fadc-bc40-42a3-8757-1273a6491429",
   "metadata": {},
   "outputs": [],
   "source": [
    "mask = ~(Cards['cardParts'] == 0)\n",
    "Cards.loc[mask,'name'] = Cards['name'].str.split('//',expand = True)[0]"
   ]
  },
  {
   "cell_type": "code",
   "execution_count": 14,
   "id": "fd15448a-82c6-4e0d-a9ed-d1bb68bc0175",
   "metadata": {},
   "outputs": [],
   "source": [
    "Cards['CollectionID'] = Cards['name'].str.strip()+Cards['setCode']\n",
    "Cards['CollectionID2'] = Cards['CollectionID']+ Cards['number'] "
   ]
  },
  {
   "cell_type": "markdown",
   "id": "f641e332-bbe5-448b-b93c-7733811c6fd4",
   "metadata": {},
   "source": [
    "# Data Merging"
   ]
  },
  {
   "cell_type": "code",
   "execution_count": 15,
   "id": "6a2a74f7-72f0-4e01-8804-8ea6d9099ca4",
   "metadata": {},
   "outputs": [],
   "source": [
    "# Merge Cards With Prices\n",
    "Cards = Cards.merge(Prices,how= 'left',right_index = True,left_index = True)"
   ]
  },
  {
   "cell_type": "code",
   "execution_count": 16,
   "id": "05d5a30f-c255-4464-9d93-1b012bbdcd96",
   "metadata": {},
   "outputs": [],
   "source": [
    "# Merge Cards With Color Order\n",
    "ColorOrder = pd.read_csv('Data/Order.csv')\n",
    "Cards = Cards.merge(ColorOrder, how = 'left', on = 'colors')"
   ]
  },
  {
   "cell_type": "markdown",
   "id": "5ca36f27-c298-41c4-ade5-3af8217b6ced",
   "metadata": {},
   "source": [
    "# Exporting"
   ]
  },
  {
   "cell_type": "code",
   "execution_count": 17,
   "id": "91bebcec-6c17-4188-a0c1-4508b68959c6",
   "metadata": {},
   "outputs": [],
   "source": [
    "Cards.set_index('uuid',inplace = True)\n",
    "Cards.to_csv('CleanData/Cards.csv',index_label= 'uuid')"
   ]
  },
  {
   "cell_type": "code",
   "execution_count": null,
   "id": "5548f082-7abb-4872-a583-f94c9786cf6f",
   "metadata": {},
   "outputs": [],
   "source": []
  }
 ],
 "metadata": {
  "kernelspec": {
   "display_name": "Python 3 (ipykernel)",
   "language": "python",
   "name": "python3"
  },
  "language_info": {
   "codemirror_mode": {
    "name": "ipython",
    "version": 3
   },
   "file_extension": ".py",
   "mimetype": "text/x-python",
   "name": "python",
   "nbconvert_exporter": "python",
   "pygments_lexer": "ipython3",
   "version": "3.11.5"
  }
 },
 "nbformat": 4,
 "nbformat_minor": 5
}
